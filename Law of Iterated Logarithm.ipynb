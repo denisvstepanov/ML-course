{
 "cells": [
  {
   "cell_type": "code",
   "execution_count": 1,
   "metadata": {
    "collapsed": true
   },
   "outputs": [],
   "source": [
    "import matplotlib.pyplot as plt\n",
    "import numpy as np\n",
    "import pandas as pd\n",
    "\n",
    "from ggplot import *"
   ]
  },
  {
   "cell_type": "code",
   "execution_count": 13,
   "metadata": {
    "collapsed": true
   },
   "outputs": [],
   "source": [
    "T = 1\n",
    "N = 1000\n",
    "t = np.linspace(0, T, N)\n",
    "dt = T / N\n",
    "M = 100\n",
    "mean = np.zeros(M)\n",
    "cov = np.eye(M)\n",
    "W = np.random.multivariate_normal(mean, cov, N)\n",
    "Wt = np.cumsum(W, axis=0) * np.sqrt(dt)"
   ]
  },
  {
   "cell_type": "code",
   "execution_count": 37,
   "metadata": {
    "collapsed": true
   },
   "outputs": [],
   "source": [
    "T = np.arange(N)+1\n",
    "llt = np.nan_to_num(np.sqrt(2*T*np.log(np.log(T))))/np.sqrt(N)"
   ]
  },
  {
   "cell_type": "code",
   "execution_count": 41,
   "metadata": {
    "collapsed": false
   },
   "outputs": [],
   "source": [
    "dat = pd.DataFrame(Wt)\n",
    "dat = pd.melt(dat)\n",
    "dat[\"t\"] = np.tile(t, M)\n",
    "dat[\"LLtup\"] = np.tile(llt,M)\n",
    "dat[\"LLtdw\"] = np.tile(-llt,M)"
   ]
  },
  {
   "cell_type": "code",
   "execution_count": 46,
   "metadata": {
    "collapsed": false
   },
   "outputs": [
    {
     "data": {
      "text/plain": [
       "<ggplot: (-9223371944138761321)>"
      ]
     },
     "execution_count": 46,
     "metadata": {},
     "output_type": "execute_result"
    }
   ],
   "source": [
    "ggplot(dat, aes(x=\"t\", y='value', group='variable')) + geom_path()"
   ]
  },
  {
   "cell_type": "code",
   "execution_count": 47,
   "metadata": {
    "collapsed": false
   },
   "outputs": [
    {
     "data": {
      "text/plain": [
       "<ggplot: (-9223371944133064774)>"
      ]
     },
     "execution_count": 47,
     "metadata": {},
     "output_type": "execute_result"
    }
   ],
   "source": [
    "ggplot(dat, aes(x=\"t\", y='value', group='variable')) + geom_path() + geom_line(aes(x=\"t\",y=\"LLtup\"),color='red')+geom_line(aes(x=\"t\",y=\"LLtdw\"),color='red')"
   ]
  }
 ],
 "metadata": {
  "kernelspec": {
   "display_name": "Python [Root]",
   "language": "python",
   "name": "Python [Root]"
  },
  "language_info": {
   "codemirror_mode": {
    "name": "ipython",
    "version": 3
   },
   "file_extension": ".py",
   "mimetype": "text/x-python",
   "name": "python",
   "nbconvert_exporter": "python",
   "pygments_lexer": "ipython3",
   "version": "3.5.1"
  }
 },
 "nbformat": 4,
 "nbformat_minor": 0
}
