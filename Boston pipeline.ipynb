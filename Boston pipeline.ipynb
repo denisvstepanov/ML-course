{
 "cells": [
  {
   "cell_type": "code",
   "execution_count": 130,
   "metadata": {
    "collapsed": false
   },
   "outputs": [],
   "source": [
    "import numpy as np\n",
    "import matplotlib.pyplot as plt\n",
    "import pandas as pd\n",
    "\n",
    "from sklearn.cross_validation import train_test_split\n",
    "from sklearn.preprocessing import StandardScaler\n",
    "from sklearn.linear_model import LinearRegression\n",
    "from sklearn.linear_model import LogisticRegression\n",
    "from sklearn.linear_model import Ridge\n",
    "from sklearn.linear_model import Lasso\n",
    "from sklearn.linear_model import Lars\n",
    "from sklearn.linear_model import LassoLars\n",
    "from sklearn.pipeline import Pipeline\n",
    "from sklearn.decomposition import PCA"
   ]
  },
  {
   "cell_type": "code",
   "execution_count": 133,
   "metadata": {
    "collapsed": false
   },
   "outputs": [],
   "source": [
    "from sklearn.datasets import load_boston\n",
    "boston = load_boston()\n",
    "X, y = boston.data, boston.target\n",
    "#df = pd.DataFrame(np.vstack((X,y.reshape(X.shape[0],1))))\n",
    "#y.shape\n",
    "from sklearn.preprocessing import LabelEncoder\n",
    "le = LabelEncoder()\n",
    "y = le.fit_transform(y)"
   ]
  },
  {
   "cell_type": "code",
   "execution_count": 129,
   "metadata": {
    "collapsed": false
   },
   "outputs": [
    {
     "name": "stdout",
     "output_type": "stream",
     "text": [
      "Train accuracy: 0.816\n",
      "Test accuracy: 0.753\n"
     ]
    }
   ],
   "source": [
    "X_train, X_test, y_train, y_test = train_test_split(X, y, test_size=0.3)\n",
    "#sc = StandardScaler()\n",
    "#sc.fit(X_train)\n",
    "#X_train_std = sc.transform(X_train)\n",
    "#X_test_std = sc.transform(X_test)\n",
    "lr = LinearRegression()\n",
    "lr.fit(X_train, y_train)\n",
    "print('Train accuracy: %.3f' % lr.score(X_train, y_train));\n",
    "print('Test accuracy: %.3f' % lr.score(X_test, y_test));\n",
    "#y_pred = lr.predict(X_test)\n",
    "#from sklearn.metrics import r2_score\n",
    "#print('Accuracy r2: %.3f' % r2_score(y_test, y_pred))\n",
    "#from sklearn.metrics import mean_squared_error\n",
    "#print('Accuracy MSE: %.3f' % mean_squared_error(y_test, y_pred))"
   ]
  },
  {
   "cell_type": "code",
   "execution_count": 116,
   "metadata": {
    "collapsed": false
   },
   "outputs": [
    {
     "name": "stdout",
     "output_type": "stream",
     "text": [
      "Train accuracy: 0.802\n",
      "Test accuracy: 0.793\n"
     ]
    }
   ],
   "source": [
    "pipe = Pipeline([('scl',StandardScaler()),('clf',LinearRegression())])\n",
    "pipe.fit(X_train, y_train)\n",
    "print('Train accuracy: %.3f' % pipe.score(X_train,y_train))\n",
    "print('Test accuracy: %.3f' % pipe.score(X_test,y_test))"
   ]
  },
  {
   "cell_type": "code",
   "execution_count": 120,
   "metadata": {
    "collapsed": false
   },
   "outputs": [
    {
     "name": "stdout",
     "output_type": "stream",
     "text": [
      "Train accuracy: 0.802\n",
      "Test accuracy: 0.792\n"
     ]
    }
   ],
   "source": [
    "pipe = Pipeline([('scl',StandardScaler()),('clf',Ridge())])\n",
    "pipe.fit(X_train, y_train)\n",
    "print('Train accuracy: %.3f' % pipe.score(X_train,y_train))\n",
    "print('Test accuracy: %.3f' % pipe.score(X_test,y_test))"
   ]
  },
  {
   "cell_type": "code",
   "execution_count": 122,
   "metadata": {
    "collapsed": false
   },
   "outputs": [
    {
     "name": "stdout",
     "output_type": "stream",
     "text": [
      "Train accuracy: 0.789\n",
      "Test accuracy: 0.772\n"
     ]
    }
   ],
   "source": [
    "pipe = Pipeline([('scl',StandardScaler()),('clf',Lasso())])\n",
    "pipe.fit(X_train, y_train)\n",
    "print('Train accuracy: %.3f' % pipe.score(X_train,y_train))\n",
    "print('Test accuracy: %.3f' % pipe.score(X_test,y_test))"
   ]
  },
  {
   "cell_type": "code",
   "execution_count": 124,
   "metadata": {
    "collapsed": false
   },
   "outputs": [
    {
     "name": "stdout",
     "output_type": "stream",
     "text": [
      "Train accuracy: 0.802\n",
      "Test accuracy: 0.793\n"
     ]
    }
   ],
   "source": [
    "pipe = Pipeline([('scl',StandardScaler()),('clf',Lars())])\n",
    "pipe.fit(X_train, y_train)\n",
    "print('Train accuracy: %.3f' % pipe.score(X_train,y_train))\n",
    "print('Test accuracy: %.3f' % pipe.score(X_test,y_test))"
   ]
  },
  {
   "cell_type": "code",
   "execution_count": 126,
   "metadata": {
    "collapsed": false
   },
   "outputs": [
    {
     "name": "stdout",
     "output_type": "stream",
     "text": [
      "Train accuracy: 0.555\n",
      "Test accuracy: 0.565\n"
     ]
    }
   ],
   "source": [
    "pipe = Pipeline([('scl',StandardScaler()),('clf',LassoLars())])\n",
    "pipe.fit(X_train, y_train)\n",
    "print('Train accuracy: %.3f' % pipe.score(X_train,y_train))\n",
    "print('Test accuracy: %.3f' % pipe.score(X_test,y_test))"
   ]
  },
  {
   "cell_type": "code",
   "execution_count": 117,
   "metadata": {
    "collapsed": false
   },
   "outputs": [
    {
     "name": "stdout",
     "output_type": "stream",
     "text": [
      "CV accuracy: 0.752 +/- 0.113\n"
     ]
    }
   ],
   "source": [
    "from sklearn.cross_validation import cross_val_score\n",
    "scores = cross_val_score(estimator = pipe, X=X_train, y=y_train, cv=10,n_jobs=1)\n",
    "print('CV accuracy: %.3f +/- %.3f'%(np.mean(scores),np.std(scores)))"
   ]
  },
  {
   "cell_type": "code",
   "execution_count": 111,
   "metadata": {
    "collapsed": false
   },
   "outputs": [],
   "source": [
    "plt.hist(y_train)\n",
    "plt.show()"
   ]
  },
  {
   "cell_type": "code",
   "execution_count": 113,
   "metadata": {
    "collapsed": false
   },
   "outputs": [
    {
     "name": "stdout",
     "output_type": "stream",
     "text": [
      "Train accuracy: 0.564\n",
      "Test accuracy: 0.519\n"
     ]
    }
   ],
   "source": [
    "pipe = Pipeline([('scl',StandardScaler()),('pca',PCA(n_components=2)),('clf',LinearRegression())])\n",
    "pipe.fit(X_train, y_train)\n",
    "print('Train accuracy: %.3f' % pipe.score(X_train,y_train))\n",
    "print('Test accuracy: %.3f' % pipe.score(X_test,y_test))"
   ]
  },
  {
   "cell_type": "code",
   "execution_count": null,
   "metadata": {
    "collapsed": true
   },
   "outputs": [],
   "source": []
  }
 ],
 "metadata": {
  "kernelspec": {
   "display_name": "Python [Root]",
   "language": "python",
   "name": "Python [Root]"
  },
  "language_info": {
   "codemirror_mode": {
    "name": "ipython",
    "version": 3
   },
   "file_extension": ".py",
   "mimetype": "text/x-python",
   "name": "python",
   "nbconvert_exporter": "python",
   "pygments_lexer": "ipython3",
   "version": "3.5.1"
  }
 },
 "nbformat": 4,
 "nbformat_minor": 0
}
