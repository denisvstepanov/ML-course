{
 "cells": [
  {
   "cell_type": "code",
   "execution_count": 1,
   "metadata": {
    "collapsed": true
   },
   "outputs": [],
   "source": [
    "import matplotlib.pyplot as plt\n",
    "import numpy as np\n",
    "import pandas as pd\n",
    "from sklearn import datasets"
   ]
  },
  {
   "cell_type": "code",
   "execution_count": 2,
   "metadata": {
    "collapsed": true
   },
   "outputs": [],
   "source": [
    "#### olivetti faces data\n",
    "faces = datasets.fetch_olivetti_faces()\n",
    "X = faces.data\n",
    "y = faces.target"
   ]
  },
  {
   "cell_type": "code",
   "execution_count": 3,
   "metadata": {
    "collapsed": true
   },
   "outputs": [],
   "source": [
    "# data scalling\n",
    "from sklearn.preprocessing import StandardScaler\n",
    "sc = StandardScaler()\n",
    "sc.fit(X)\n",
    "X = sc.transform(X)"
   ]
  },
  {
   "cell_type": "code",
   "execution_count": 233,
   "metadata": {
    "collapsed": false
   },
   "outputs": [
    {
     "data": {
      "text/plain": [
       "PCA(copy=True, n_components=4096, whiten=False)"
      ]
     },
     "execution_count": 233,
     "metadata": {},
     "output_type": "execute_result"
    }
   ],
   "source": [
    "from sklearn.decomposition import PCA\n",
    "# PCA\n",
    "n_components = 4096\n",
    "pca = PCA(n_components=n_components)\n",
    "pca.fit(X)"
   ]
  },
  {
   "cell_type": "code",
   "execution_count": 274,
   "metadata": {
    "collapsed": false
   },
   "outputs": [
    {
     "data": {
      "text/plain": [
       "FastICA(algorithm='parallel', fun='logcosh', fun_args=None, max_iter=200,\n",
       "    n_components=400, random_state=None, tol=0.0001, w_init=None,\n",
       "    whiten=True)"
      ]
     },
     "execution_count": 274,
     "metadata": {},
     "output_type": "execute_result"
    }
   ],
   "source": [
    "from sklearn.decomposition import FastICA\n",
    "n_components = 400\n",
    "pca = FastICA(n_components = n_components)\n",
    "pca.fit(X)"
   ]
  },
  {
   "cell_type": "code",
   "execution_count": 190,
   "metadata": {
    "collapsed": false
   },
   "outputs": [
    {
     "data": {
      "text/plain": [
       "SparsePCA(U_init=None, V_init=None, alpha=10, max_iter=1000, method='lars',\n",
       "     n_components=40, n_jobs=1, random_state=None, ridge_alpha=0.01,\n",
       "     tol=1e-08, verbose=False)"
      ]
     },
     "execution_count": 190,
     "metadata": {},
     "output_type": "execute_result"
    }
   ],
   "source": [
    "from sklearn.decomposition import SparsePCA\n",
    "# Sparse PCA\n",
    "n_components = 40\n",
    "pca = SparsePCA(n_components=n_components, alpha = 10)\n",
    "pca.fit(X)"
   ]
  },
  {
   "cell_type": "code",
   "execution_count": 220,
   "metadata": {
    "collapsed": false
   },
   "outputs": [
    {
     "data": {
      "text/plain": [
       "MiniBatchSparsePCA(alpha=5, batch_size=3, callback=None, method='lars',\n",
       "          n_components=40, n_iter=100, n_jobs=1, random_state=None,\n",
       "          ridge_alpha=0.01, shuffle=True, verbose=False)"
      ]
     },
     "execution_count": 220,
     "metadata": {},
     "output_type": "execute_result"
    }
   ],
   "source": [
    "from sklearn.decomposition import MiniBatchSparsePCA\n",
    "# Sparse PCA\n",
    "n_components = 40\n",
    "pca = MiniBatchSparsePCA(n_components=n_components, alpha = 5)\n",
    "pca.fit(X)"
   ]
  },
  {
   "cell_type": "code",
   "execution_count": 242,
   "metadata": {
    "collapsed": false
   },
   "outputs": [
    {
     "data": {
      "text/plain": [
       "array([[-10.28389127,   9.50016439, -10.18413655, ...,  -9.79499334,\n",
       "         10.18851364,   7.47013755],\n",
       "       [ 10.10387391,  -9.3329509 ,  10.00477379, ...,   9.62468692,\n",
       "        -10.01122641,  -7.33362143],\n",
       "       [-16.40399815,  15.15414572, -16.24736495, ..., -15.62429916,\n",
       "         16.2565911 ,  11.91046095],\n",
       "       ..., \n",
       "       [  6.2800851 ,  -5.80183461,   6.22040783, ...,   5.98094321,\n",
       "         -6.2227846 ,  -4.55722903],\n",
       "       [ -8.19481574,   7.57016589,  -8.11612059, ...,  -7.8046483 ,\n",
       "          8.12062516,   5.95118204],\n",
       "       [  2.47762474,  -2.2880974 ,   2.45116463, ...,   2.36248307,\n",
       "         -2.45390732,  -1.79877266]])"
      ]
     },
     "execution_count": 242,
     "metadata": {},
     "output_type": "execute_result"
    }
   ],
   "source": [
    "# create identity matrix\n",
    "I = np.identity(n_components)\n",
    "# obtain coefficients\n",
    "coef = pca.transform(I)\n",
    "coef"
   ]
  },
  {
   "cell_type": "code",
   "execution_count": 266,
   "metadata": {
    "collapsed": false
   },
   "outputs": [],
   "source": [
    "i = np.zeros(n_components)\n",
    "i[0] = 1\n",
    "X_samples = pca.inverse_transform(i.reshape(1,-1))"
   ]
  },
  {
   "cell_type": "code",
   "execution_count": 267,
   "metadata": {
    "collapsed": false
   },
   "outputs": [],
   "source": [
    "# generated face\n",
    "face = X_samples\n",
    "plt.subplot(1, 1, 1)\n",
    "vmax = max(face.max(), -face.min())\n",
    "plt.imshow(face.reshape([64, 64]), cmap=plt.cm.gray)\n",
    "plt.show()"
   ]
  },
  {
   "cell_type": "code",
   "execution_count": 268,
   "metadata": {
    "collapsed": false
   },
   "outputs": [],
   "source": [
    "# generated face\n",
    "face = pca.components_[39]\n",
    "plt.subplot(1, 1, 1)\n",
    "vmax = max(face.max(), -face.min())\n",
    "plt.imshow(face.reshape([64, 64]), cmap=plt.cm.gray)\n",
    "plt.show()"
   ]
  },
  {
   "cell_type": "code",
   "execution_count": 277,
   "metadata": {
    "collapsed": false
   },
   "outputs": [],
   "source": [
    "# generated face\n",
    "face = np.zeros(4096)\n",
    "face = pca.mean_\n",
    "for i in range(0,399):\n",
    "    face = face + pca.components_[i]\n",
    "plt.subplot(1, 1, 1)\n",
    "vmax = max(face.max(), -face.min())\n",
    "plt.imshow(face.reshape([64, 64]), cmap=plt.cm.gray)\n",
    "plt.show()"
   ]
  },
  {
   "cell_type": "code",
   "execution_count": 276,
   "metadata": {
    "collapsed": false
   },
   "outputs": [],
   "source": [
    "# generated face (mean)\n",
    "face = pca.mean_\n",
    "plt.subplot(1, 1, 1)\n",
    "vmax = max(face.max(), -face.min())\n",
    "plt.imshow(face.reshape([64, 64]), cmap=plt.cm.gray)\n",
    "plt.show()"
   ]
  },
  {
   "cell_type": "code",
   "execution_count": 213,
   "metadata": {
    "collapsed": false
   },
   "outputs": [
    {
     "data": {
      "text/plain": [
       "array([ -3.05026759e-07,   3.86126345e-07,   5.71310522e-07, ...,\n",
       "        -4.44948682e-07,  -1.13103533e-06,  -5.15952706e-07], dtype=float32)"
      ]
     },
     "execution_count": 213,
     "metadata": {},
     "output_type": "execute_result"
    }
   ],
   "source": [
    "pca.mean_"
   ]
  },
  {
   "cell_type": "code",
   "execution_count": 275,
   "metadata": {
    "collapsed": false
   },
   "outputs": [
    {
     "data": {
      "text/plain": [
       "array([ -9.45295605,   9.28402816, -15.08137493, ...,   5.76803002,\n",
       "        -7.53484026,   2.27458049])"
      ]
     },
     "execution_count": 275,
     "metadata": {},
     "output_type": "execute_result"
    }
   ],
   "source": [
    "pca.components_[0]"
   ]
  },
  {
   "cell_type": "code",
   "execution_count": 278,
   "metadata": {
    "collapsed": false
   },
   "outputs": [
    {
     "data": {
      "text/plain": [
       "70"
      ]
     },
     "execution_count": 278,
     "metadata": {},
     "output_type": "execute_result"
    }
   ],
   "source": [
    "pca.n_iter_"
   ]
  },
  {
   "cell_type": "code",
   "execution_count": 19,
   "metadata": {
    "collapsed": false
   },
   "outputs": [
    {
     "data": {
      "text/plain": [
       "(4096,)"
      ]
     },
     "execution_count": 19,
     "metadata": {},
     "output_type": "execute_result"
    }
   ],
   "source": [
    "Xmixed = np.zeros(X.shape[1])\n",
    "for i in range(10):\n",
    "    Xmixed = Xmixed + X[i]\n",
    "Xmixed.shape"
   ]
  },
  {
   "cell_type": "code",
   "execution_count": null,
   "metadata": {
    "collapsed": true
   },
   "outputs": [],
   "source": [
    "col = X.shape[0]\n",
    "\n",
    "Xmixed = []"
   ]
  },
  {
   "cell_type": "code",
   "execution_count": 20,
   "metadata": {
    "collapsed": false
   },
   "outputs": [
    {
     "data": {
      "text/plain": [
       "FastICA(algorithm='deflation', fun='cube', fun_args=None, max_iter=200,\n",
       "    n_components=40, random_state=None, tol=0.0001, w_init=None,\n",
       "    whiten=True)"
      ]
     },
     "execution_count": 20,
     "metadata": {},
     "output_type": "execute_result"
    }
   ],
   "source": [
    "from sklearn.decomposition import FastICA\n",
    "n_components = 40\n",
    "ica = FastICA(n_components = n_components, algorithm = 'deflation', fun = 'cube')\n",
    "ica.fit(X)"
   ]
  },
  {
   "cell_type": "code",
   "execution_count": 12,
   "metadata": {
    "collapsed": false
   },
   "outputs": [],
   "source": [
    "Y = ica.fit_transform(X)\n",
    "# generated face (Fast ICA)\n",
    "face = Y[1]\n",
    "plt.subplot(1, 1, 1)\n",
    "vmax = max(face.max(), -face.min())\n",
    "plt.imshow(face.reshape([1, n_components]), cmap=plt.cm.gray)\n",
    "plt.show()"
   ]
  },
  {
   "cell_type": "code",
   "execution_count": 14,
   "metadata": {
    "collapsed": false
   },
   "outputs": [
    {
     "data": {
      "text/plain": [
       "(4096,)"
      ]
     },
     "execution_count": 14,
     "metadata": {},
     "output_type": "execute_result"
    }
   ],
   "source": [
    "X[0].shape"
   ]
  },
  {
   "cell_type": "code",
   "execution_count": 441,
   "metadata": {
    "collapsed": false
   },
   "outputs": [
    {
     "data": {
      "text/plain": [
       "(4096, 40)"
      ]
     },
     "execution_count": 441,
     "metadata": {},
     "output_type": "execute_result"
    }
   ],
   "source": [
    "ica.mixing_.shape"
   ]
  },
  {
   "cell_type": "code",
   "execution_count": 459,
   "metadata": {
    "collapsed": false
   },
   "outputs": [],
   "source": [
    "# generated face (Fast ICA)\n",
    "A = ica.mixing_.T\n",
    "face = A[1]\n",
    "plt.subplot(1, 1, 1)\n",
    "vmax = max(face.max(), -face.min())\n",
    "plt.imshow(face.reshape([64, 64]), cmap=plt.cm.gray)\n",
    "plt.show()"
   ]
  },
  {
   "cell_type": "code",
   "execution_count": 442,
   "metadata": {
    "collapsed": false
   },
   "outputs": [],
   "source": [
    "# generated face (Fast ICA)\n",
    "face = ica.components_[1]\n",
    "plt.subplot(1, 1, 1)\n",
    "vmax = max(face.max(), -face.min())\n",
    "plt.imshow(face.reshape([64, 64]), cmap=plt.cm.gray)\n",
    "plt.show()"
   ]
  },
  {
   "cell_type": "code",
   "execution_count": 403,
   "metadata": {
    "collapsed": false
   },
   "outputs": [],
   "source": [
    "# generated face (Fast ICA)\n",
    "face = np.zeros(4096)\n",
    "A = ica.mixing_.T\n",
    "for i in range(0,n_components):\n",
    "    face = face + A[i]\n",
    "plt.subplot(1, 1, 1)\n",
    "vmax = max(face.max(), -face.min())\n",
    "plt.imshow(face.reshape([64, 64]), cmap=plt.cm.gray)\n",
    "plt.show()"
   ]
  },
  {
   "cell_type": "code",
   "execution_count": 454,
   "metadata": {
    "collapsed": false
   },
   "outputs": [],
   "source": [
    "# generated face (Fast ICA)\n",
    "Xmix = ica.inverse_transform(Y)\n",
    "face = Xmix[1]\n",
    "plt.subplot(1, 1, 1)\n",
    "vmax = max(face.max(), -face.min())\n",
    "plt.imshow(face.reshape([64, 64]), cmap=plt.cm.gray)\n",
    "plt.show()"
   ]
  },
  {
   "cell_type": "code",
   "execution_count": 458,
   "metadata": {
    "collapsed": false
   },
   "outputs": [],
   "source": [
    "# generated face (Fast ICA)\n",
    "face = X[1]\n",
    "plt.subplot(1, 1, 1)\n",
    "vmax = max(face.max(), -face.min())\n",
    "plt.imshow(face.reshape([64, 64]), cmap=plt.cm.gray)\n",
    "plt.show()"
   ]
  },
  {
   "cell_type": "code",
   "execution_count": null,
   "metadata": {
    "collapsed": true
   },
   "outputs": [],
   "source": []
  }
 ],
 "metadata": {
  "kernelspec": {
   "display_name": "Python [Root]",
   "language": "python",
   "name": "Python [Root]"
  },
  "language_info": {
   "codemirror_mode": {
    "name": "ipython",
    "version": 3
   },
   "file_extension": ".py",
   "mimetype": "text/x-python",
   "name": "python",
   "nbconvert_exporter": "python",
   "pygments_lexer": "ipython3",
   "version": "3.5.1"
  }
 },
 "nbformat": 4,
 "nbformat_minor": 0
}
