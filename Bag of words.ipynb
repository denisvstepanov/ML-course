{
 "cells": [
  {
   "cell_type": "code",
   "execution_count": 2,
   "metadata": {
    "collapsed": true
   },
   "outputs": [],
   "source": [
    "import numpy as np"
   ]
  },
  {
   "cell_type": "code",
   "execution_count": 36,
   "metadata": {
    "collapsed": false
   },
   "outputs": [],
   "source": [
    "from sklearn.feature_extraction.text import CountVectorizer\n",
    "count = CountVectorizer(analyzer='word',stop_words=None, lowercase=False)"
   ]
  },
  {
   "cell_type": "code",
   "execution_count": 41,
   "metadata": {
    "collapsed": true
   },
   "outputs": [],
   "source": [
    "docs = np.array([\n",
    "        'X , y = california.data, california.target',\n",
    "        'X_train, X_test, y_train, y_test = train_test_split(X, y, test_size=0.3, random_state=0)',\n",
    "        'sc.fit(X_train)',\n",
    "        'X_train_std = sc.fit_transform(X_train)',\n",
    "        'X_test_std = sc.fit_transform(X_test)'])"
   ]
  },
  {
   "cell_type": "code",
   "execution_count": 19,
   "metadata": {
    "collapsed": true
   },
   "outputs": [],
   "source": [
    "docs = np.array([\n",
    "        'You might be wondering why the updates mechanism exists.', \n",
    "        'You can always achieve a similar result by returning the new expressions,', \n",
    "        'and working with them in NumPy as usual.',\n",
    "        'The updates mechanism can be a syntactic convenience,',\n",
    "        'but it is mainly there for efficiency.',\n",
    "        'Updates to shared variables can sometimes be done more quickly using in-place algorithms',\n",
    "        '(e.g. low-rank matrix updates).',\n",
    "        'Also, Theano has more control over where and how shared variables are allocated,',\n",
    "        'which is one of the important elements of getting good performance on the GPU.'])"
   ]
  },
  {
   "cell_type": "code",
   "execution_count": 55,
   "metadata": {
    "collapsed": false
   },
   "outputs": [],
   "source": [
    "bag = count.build_tokenizer()"
   ]
  },
  {
   "cell_type": "code",
   "execution_count": 51,
   "metadata": {
    "collapsed": true
   },
   "outputs": [],
   "source": [
    "bag = count.fit_transform(docs)"
   ]
  },
  {
   "cell_type": "code",
   "execution_count": 52,
   "metadata": {
    "collapsed": false
   },
   "outputs": [
    {
     "name": "stdout",
     "output_type": "stream",
     "text": [
      "{'sc': 9, 'data': 5, 'random_state': 8, 'california': 4, 'y_train': 14, 'test_size': 11, 'fit': 6, 'target': 10, 'y_test': 13, 'X_train_std': 3, 'X_test_std': 1, 'X_train': 2, 'X_test': 0, 'fit_transform': 7, 'train_test_split': 12}\n"
     ]
    }
   ],
   "source": [
    "print(count.vocabulary_)"
   ]
  },
  {
   "cell_type": "code",
   "execution_count": 53,
   "metadata": {
    "collapsed": false
   },
   "outputs": [
    {
     "name": "stdout",
     "output_type": "stream",
     "text": [
      "set()\n"
     ]
    }
   ],
   "source": [
    "print(count.stop_words_)"
   ]
  },
  {
   "cell_type": "code",
   "execution_count": 54,
   "metadata": {
    "collapsed": false
   },
   "outputs": [
    {
     "name": "stdout",
     "output_type": "stream",
     "text": [
      "[[0 0 0 0 2 1 0 0 0 0 1 0 0 0 0]\n",
      " [1 0 1 0 0 0 0 0 1 0 0 1 1 1 1]\n",
      " [0 0 1 0 0 0 1 0 0 1 0 0 0 0 0]\n",
      " [0 0 1 1 0 0 0 1 0 1 0 0 0 0 0]\n",
      " [1 1 0 0 0 0 0 1 0 1 0 0 0 0 0]]\n"
     ]
    }
   ],
   "source": [
    "print(bag.toarray())"
   ]
  },
  {
   "cell_type": "code",
   "execution_count": null,
   "metadata": {
    "collapsed": true
   },
   "outputs": [],
   "source": []
  }
 ],
 "metadata": {
  "anaconda-cloud": {},
  "kernelspec": {
   "display_name": "Python [Root]",
   "language": "python",
   "name": "Python [Root]"
  },
  "language_info": {
   "codemirror_mode": {
    "name": "ipython",
    "version": 3
   },
   "file_extension": ".py",
   "mimetype": "text/x-python",
   "name": "python",
   "nbconvert_exporter": "python",
   "pygments_lexer": "ipython3",
   "version": "3.5.1"
  }
 },
 "nbformat": 4,
 "nbformat_minor": 0
}
