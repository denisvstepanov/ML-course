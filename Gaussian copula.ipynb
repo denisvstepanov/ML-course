{
 "cells": [
  {
   "cell_type": "code",
   "execution_count": 1,
   "metadata": {
    "collapsed": true
   },
   "outputs": [],
   "source": [
    "# imports\n",
    "import matplotlib.pyplot as plt\n",
    "import numpy as np\n",
    "import pandas as pd\n",
    "import scipy as sp\n",
    "\n",
    "from scipy import array, linalg, dot\n",
    "from sklearn import preprocessing\n",
    "\n",
    "from scipy.stats import t\n",
    "from scipy.stats import norm\n",
    "from scipy.stats import chi2\n",
    "from scipy.stats import multivariate_normal\n",
    "\n",
    "from pandas.tools.plotting import scatter_matrix\n"
   ]
  },
  {
   "cell_type": "code",
   "execution_count": 2,
   "metadata": {
    "collapsed": false
   },
   "outputs": [],
   "source": [
    "# Motivational example: Smirnov's theorem \n",
    "X = norm.rvs(0,1,10000)\n",
    "U = norm.cdf(X)\n",
    "plt.hist(X, bins='auto', alpha=0.5)\n",
    "plt.hist(U, bins='auto', alpha=0.5)\n",
    "plt.show()"
   ]
  },
  {
   "cell_type": "code",
   "execution_count": 869,
   "metadata": {
    "collapsed": false
   },
   "outputs": [
    {
     "data": {
      "text/plain": [
       "array([[ 1.        ,  0.05842025],\n",
       "       [ 0.05842025,  1.        ]])"
      ]
     },
     "execution_count": 869,
     "metadata": {},
     "output_type": "execute_result"
    }
   ],
   "source": [
    "# settings\n",
    "m = 2\n",
    "k = m+1\n",
    "n = 1000\n",
    "# generate covariance matrix\n",
    "P = np.random.uniform(0,1,m*k).reshape(k,m)\n",
    "P = preprocessing.scale(P)\n",
    "P = dot(P.T,P)/k\n",
    "P0 = P\n",
    "P"
   ]
  },
  {
   "cell_type": "code",
   "execution_count": 870,
   "metadata": {
    "collapsed": false
   },
   "outputs": [
    {
     "data": {
      "text/plain": [
       "array([ 1.05842025,  0.94157975])"
      ]
     },
     "execution_count": 870,
     "metadata": {},
     "output_type": "execute_result"
    }
   ],
   "source": [
    "# check positive definetness\n",
    "np.linalg.eigvals(P)"
   ]
  },
  {
   "cell_type": "code",
   "execution_count": 871,
   "metadata": {
    "collapsed": false
   },
   "outputs": [],
   "source": [
    "# Cholesky decomposition of P\n",
    "L = linalg.cholesky(P, lower=True)"
   ]
  },
  {
   "cell_type": "code",
   "execution_count": 872,
   "metadata": {
    "collapsed": false
   },
   "outputs": [
    {
     "data": {
      "text/plain": [
       "array([[ 1.        ,  0.05842025],\n",
       "       [ 0.05842025,  1.        ]])"
      ]
     },
     "execution_count": 872,
     "metadata": {},
     "output_type": "execute_result"
    }
   ],
   "source": [
    "# check decomposition\n",
    "dot(L,L.T)"
   ]
  },
  {
   "cell_type": "code",
   "execution_count": 793,
   "metadata": {
    "collapsed": false
   },
   "outputs": [],
   "source": [
    "# simulation loop (gaussian copula)\n",
    "U = np.zeros((n,m))\n",
    "for i in range(0,n):    \n",
    "    Z = norm.rvs(0,1,m)\n",
    "    X = dot(L,Z)\n",
    "    U[i,] = norm.cdf(X)"
   ]
  },
  {
   "cell_type": "code",
   "execution_count": 794,
   "metadata": {
    "collapsed": true
   },
   "outputs": [],
   "source": [
    "# simulation loop (gaussian copula) - easy way\n",
    "U = np.zeros((n,m))\n",
    "for i in range(0,n):\n",
    "    Z = multivariate_normal.rvs(np.zeros(m),P0)\n",
    "    U[i,] = norm.cdf(Z)"
   ]
  },
  {
   "cell_type": "code",
   "execution_count": 881,
   "metadata": {
    "collapsed": false
   },
   "outputs": [],
   "source": [
    "# simulation loop (t-copula)\n",
    "nu = 1\n",
    "U = np.zeros((n,m))\n",
    "for i in range(0,n):\n",
    "    c = chi2.rvs(nu,size=1)/nu\n",
    "    Z = multivariate_normal.rvs(np.zeros(m),P0)\n",
    "    X = Z/np.sqrt(c)\n",
    "    U[i,] = t.cdf(X, nu)"
   ]
  },
  {
   "cell_type": "code",
   "execution_count": 882,
   "metadata": {
    "collapsed": false
   },
   "outputs": [],
   "source": [
    "# scatter matrix plot for U\n",
    "df = pd.DataFrame(U)\n",
    "scatter_matrix(df, alpha=0.2,diagonal='hist')\n",
    "plt.show()"
   ]
  },
  {
   "cell_type": "code",
   "execution_count": 883,
   "metadata": {
    "collapsed": false
   },
   "outputs": [],
   "source": [
    "# dependent normal r.v. simulation\n",
    "V = np.zeros((n,m))\n",
    "for i in range(0,n):\n",
    "    V[i,] = norm.ppf(U[i,])"
   ]
  },
  {
   "cell_type": "code",
   "execution_count": 843,
   "metadata": {
    "collapsed": false
   },
   "outputs": [],
   "source": [
    "# dependent Student's r.v. simulation\n",
    "V = np.zeros((n,m))\n",
    "for i in range(0,n):\n",
    "    V[i,] = t.ppf(U[i,], nu)"
   ]
  },
  {
   "cell_type": "code",
   "execution_count": 884,
   "metadata": {
    "collapsed": true
   },
   "outputs": [],
   "source": [
    "# scatter matrix plot for V\n",
    "dfV = pd.DataFrame(V)\n",
    "scatter_matrix(dfV, alpha=0.2,diagonal='hist')\n",
    "plt.show()"
   ]
  },
  {
   "cell_type": "code",
   "execution_count": 885,
   "metadata": {
    "collapsed": false
   },
   "outputs": [],
   "source": [
    "# simulate multivariate normal\n",
    "rv = multivariate_normal([0, 0], P0)\n",
    "W = np.zeros((n,2))\n",
    "for i in range(0,n):\n",
    "    W[i,] = rv.rvs()\n",
    "dfW = pd.DataFrame(W)\n",
    "plt.scatter(dfW[0],dfW[1])\n",
    "plt.show()"
   ]
  },
  {
   "cell_type": "code",
   "execution_count": 834,
   "metadata": {
    "collapsed": true
   },
   "outputs": [],
   "source": [
    "# simulate multivariate Student's\n",
    "rv = multivariate_normal([0, 0], P0)\n",
    "W = np.zeros((n,2))\n",
    "for i in range(0,n):\n",
    "    c = chi2.rvs(nu,size=1)/nu\n",
    "    Z = multivariate_normal.rvs(np.zeros(m),P0)\n",
    "    W[i,] = Z/np.sqrt(c)\n",
    "dfW = pd.DataFrame(W)\n",
    "plt.scatter(dfW[0],dfW[1])\n",
    "plt.show()"
   ]
  },
  {
   "cell_type": "code",
   "execution_count": 886,
   "metadata": {
    "collapsed": false
   },
   "outputs": [],
   "source": [
    "# multivariate distrbution via covariation and via copula\n",
    "if m==2:\n",
    "    I1 = ['r']*n\n",
    "    I2 = ['b']*n\n",
    "    colors = np.hstack((I1, I2))\n",
    "    Z = np.vstack((V,W))\n",
    "    x = Z[:,0]\n",
    "    y = Z[:,1]    \n",
    "    plt.scatter(x,y,c=colors,alpha=0.5)\n",
    "    plt.show()"
   ]
  },
  {
   "cell_type": "code",
   "execution_count": null,
   "metadata": {
    "collapsed": true
   },
   "outputs": [],
   "source": []
  }
 ],
 "metadata": {
  "anaconda-cloud": {},
  "kernelspec": {
   "display_name": "Python [Root]",
   "language": "python",
   "name": "Python [Root]"
  },
  "language_info": {
   "codemirror_mode": {
    "name": "ipython",
    "version": 3
   },
   "file_extension": ".py",
   "mimetype": "text/x-python",
   "name": "python",
   "nbconvert_exporter": "python",
   "pygments_lexer": "ipython3",
   "version": "3.5.1"
  }
 },
 "nbformat": 4,
 "nbformat_minor": 0
}
