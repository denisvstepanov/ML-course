{
 "cells": [
  {
   "cell_type": "code",
   "execution_count": 1,
   "metadata": {
    "collapsed": true
   },
   "outputs": [],
   "source": [
    "import matplotlib.pyplot as plt\n",
    "import numpy as np\n",
    "import pandas as pd"
   ]
  },
  {
   "cell_type": "code",
   "execution_count": 176,
   "metadata": {
    "collapsed": true
   },
   "outputs": [],
   "source": [
    "from sklearn import datasets\n",
    "iris = datasets.load_iris()\n",
    "X = iris.data\n",
    "y = iris.target"
   ]
  },
  {
   "cell_type": "code",
   "execution_count": 177,
   "metadata": {
    "collapsed": false
   },
   "outputs": [],
   "source": [
    "from sklearn.decomposition import FactorAnalysis\n",
    "fa = FactorAnalysis(n_components=2)\n",
    "X_reduced = fa.fit_transform(X)"
   ]
  },
  {
   "cell_type": "code",
   "execution_count": 178,
   "metadata": {
    "collapsed": false
   },
   "outputs": [
    {
     "name": "stdout",
     "output_type": "stream",
     "text": [
      "-0.146832660483\n"
     ]
    }
   ],
   "source": [
    "print(np.dot(fa.components_[0], fa.components_[1]))"
   ]
  },
  {
   "cell_type": "code",
   "execution_count": 179,
   "metadata": {
    "collapsed": false
   },
   "outputs": [],
   "source": [
    "### Factor analysis reduction\n",
    "plt.scatter(X_reduced[:, 0], X_reduced[:, 1], c=y)\n",
    "plt.show()"
   ]
  },
  {
   "cell_type": "code",
   "execution_count": 182,
   "metadata": {
    "collapsed": false
   },
   "outputs": [
    {
     "ename": "AttributeError",
     "evalue": "'KernelPCA' object has no attribute 'components_'",
     "output_type": "error",
     "traceback": [
      "\u001b[1;31m---------------------------------------------------------------------------\u001b[0m",
      "\u001b[1;31mAttributeError\u001b[0m                            Traceback (most recent call last)",
      "\u001b[1;32m<ipython-input-182-d33fb82bb9be>\u001b[0m in \u001b[0;36m<module>\u001b[1;34m()\u001b[0m\n\u001b[1;32m----> 1\u001b[1;33m \u001b[0mprint\u001b[0m\u001b[1;33m(\u001b[0m\u001b[0mnp\u001b[0m\u001b[1;33m.\u001b[0m\u001b[0mdot\u001b[0m\u001b[1;33m(\u001b[0m\u001b[0mpca\u001b[0m\u001b[1;33m.\u001b[0m\u001b[0mcomponents_\u001b[0m\u001b[1;33m[\u001b[0m\u001b[1;36m0\u001b[0m\u001b[1;33m]\u001b[0m\u001b[1;33m,\u001b[0m \u001b[0mpca\u001b[0m\u001b[1;33m.\u001b[0m\u001b[0mcomponents_\u001b[0m\u001b[1;33m[\u001b[0m\u001b[1;36m1\u001b[0m\u001b[1;33m]\u001b[0m\u001b[1;33m)\u001b[0m\u001b[1;33m)\u001b[0m\u001b[1;33m\u001b[0m\u001b[0m\n\u001b[0m",
      "\u001b[1;31mAttributeError\u001b[0m: 'KernelPCA' object has no attribute 'components_'"
     ]
    }
   ],
   "source": [
    "print(np.dot(pca.components_[0], pca.components_[1]))"
   ]
  },
  {
   "cell_type": "code",
   "execution_count": 36,
   "metadata": {
    "collapsed": true
   },
   "outputs": [],
   "source": [
    "### PCA reduction\n",
    "plt.scatter(X_reduced[:, 0], X_reduced[:, 1], c=y)\n",
    "plt.show()"
   ]
  },
  {
   "cell_type": "code",
   "execution_count": 40,
   "metadata": {
    "collapsed": true
   },
   "outputs": [],
   "source": [
    "### REDUCTION TO ONE DIMENSION\n",
    "from scipy.stats import uniform\n",
    "fa = FactorAnalysis(n_components=1)\n",
    "X_reduced = fa.fit_transform(X)\n",
    "z = uniform.rvs(0,0.0005,size=X_reduced.shape[0])\n",
    "### Factor analysis reduction\n",
    "plt.scatter(X_reduced[:, 0], z, c=y)\n",
    "plt.show()"
   ]
  },
  {
   "cell_type": "code",
   "execution_count": 56,
   "metadata": {
    "collapsed": true
   },
   "outputs": [],
   "source": [
    "pca = PCA(n_components=1)\n",
    "X_reduced = pca.fit_transform(X)\n",
    "z = uniform.rvs(0,0.0005,size=X_reduced.shape[0])\n",
    "### PCA reduction\n",
    "plt.scatter(X_reduced[:, 0], z, c=y)\n",
    "plt.show()"
   ]
  },
  {
   "cell_type": "code",
   "execution_count": 18,
   "metadata": {
    "collapsed": false
   },
   "outputs": [],
   "source": [
    "from sklearn import datasets\n",
    "#### olivetti faces data\n",
    "faces = datasets.fetch_olivetti_faces()\n",
    "X = faces.data\n",
    "y = faces.target"
   ]
  },
  {
   "cell_type": "code",
   "execution_count": 19,
   "metadata": {
    "collapsed": true
   },
   "outputs": [],
   "source": [
    "# data scalling\n",
    "from sklearn.preprocessing import StandardScaler\n",
    "sc = StandardScaler()\n",
    "sc.fit(X)\n",
    "X = sc.transform(X)"
   ]
  },
  {
   "cell_type": "code",
   "execution_count": 136,
   "metadata": {
    "collapsed": true
   },
   "outputs": [],
   "source": [
    "# FA\n",
    "fa = FactorAnalysis(n_components=2)\n",
    "X_reduced = fa.fit_transform(X)"
   ]
  },
  {
   "cell_type": "code",
   "execution_count": 95,
   "metadata": {
    "collapsed": true
   },
   "outputs": [],
   "source": [
    "### Factor analysis reduction\n",
    "plt.scatter(X_reduced[:, 0], X_reduced[:, 1], c=y)\n",
    "plt.show()"
   ]
  },
  {
   "cell_type": "code",
   "execution_count": 437,
   "metadata": {
    "collapsed": false
   },
   "outputs": [],
   "source": [
    "# PCA\n",
    "n_components = 4\n",
    "pca = PCA(n_components=n_components)\n",
    "X_reduced = pca.fit_transform(X)"
   ]
  },
  {
   "cell_type": "code",
   "execution_count": 20,
   "metadata": {
    "collapsed": false
   },
   "outputs": [],
   "source": [
    "# Kernel PCA\n",
    "n_components = 4\n",
    "from sklearn.decomposition import KernelPCA\n",
    "kpca = KernelPCA(n_components=n_components,kernel=\"rbf\",fit_inverse_transform=True,gamma=1)\n",
    "kpca.fit(X)\n",
    "X_reduced = kpca.fit_transform(X)"
   ]
  },
  {
   "cell_type": "code",
   "execution_count": 10,
   "metadata": {
    "collapsed": false
   },
   "outputs": [
    {
     "data": {
      "text/plain": [
       "(4096, 4)"
      ]
     },
     "execution_count": 10,
     "metadata": {},
     "output_type": "execute_result"
    }
   ],
   "source": [
    "X_reduced.shape"
   ]
  },
  {
   "cell_type": "code",
   "execution_count": 364,
   "metadata": {
    "collapsed": true
   },
   "outputs": [],
   "source": [
    "### PCA reduction\n",
    "plt.scatter(X_reduced[:, 0], X_reduced[:, 1], c=y)\n",
    "plt.show()"
   ]
  },
  {
   "cell_type": "code",
   "execution_count": 435,
   "metadata": {
    "collapsed": false
   },
   "outputs": [
    {
     "name": "stderr",
     "output_type": "stream",
     "text": [
      "C:\\Users\\Denis.Stepanov\\AppData\\Local\\Continuum\\Anaconda3\\lib\\site-packages\\ipykernel\\__main__.py:4: RuntimeWarning: covariance is not positive-semidefinite.\n"
     ]
    }
   ],
   "source": [
    "from numpy.random import multivariate_normal\n",
    "#### Model faces\n",
    "v = pca.transform(X)\n",
    "v_samples = multivariate_normal(np.mean(v, axis=0), np.cov(v.T), size=1)\n",
    "X_samples = pca.inverse_transform(v_samples)"
   ]
  },
  {
   "cell_type": "code",
   "execution_count": 21,
   "metadata": {
    "collapsed": false
   },
   "outputs": [],
   "source": [
    "from numpy.random import multivariate_normal\n",
    "#### Model faces\n",
    "v = kpca.transform(X)\n",
    "v_samples = multivariate_normal(np.mean(v, axis=0), np.cov(v.T), size=1)\n",
    "X_samples = kpca.inverse_transform(v_samples)"
   ]
  },
  {
   "cell_type": "code",
   "execution_count": 22,
   "metadata": {
    "collapsed": false
   },
   "outputs": [],
   "source": [
    "# generated face\n",
    "face = X_samples[0]\n",
    "plt.subplot(1, 1, 1)\n",
    "vmax = max(face.max(), -face.min())\n",
    "plt.imshow(face.reshape([64, 64]), cmap=plt.cm.gray)\n",
    "plt.show()"
   ]
  },
  {
   "cell_type": "code",
   "execution_count": 333,
   "metadata": {
    "collapsed": true
   },
   "outputs": [],
   "source": [
    "# true random face\n",
    "i = np.random.choice(400, 1)[0]\n",
    "random_face = X[i]\n",
    "plt.subplot(1, 1, 1)\n",
    "vmax = max(random_face.max(), -random_face.min())\n",
    "plt.imshow(random_face.reshape([64, 64]), cmap=plt.cm.gray)\n",
    "plt.show()"
   ]
  },
  {
   "cell_type": "code",
   "execution_count": 427,
   "metadata": {
    "collapsed": true
   },
   "outputs": [],
   "source": [
    "# true random face\n",
    "i = np.random.choice(400, 1)[0]\n",
    "random_face = X[i]\n",
    "plt.subplot(1, 1, 1)\n",
    "vmax = max(random_face.max(), -random_face.min())\n",
    "plt.imshow(random_face.reshape([64, 64]), cmap=plt.cm.gray)\n",
    "plt.show()"
   ]
  },
  {
   "cell_type": "code",
   "execution_count": 171,
   "metadata": {
    "collapsed": true
   },
   "outputs": [],
   "source": [
    "# all true images\n",
    "n_row = 20\n",
    "n_col = 20\n",
    "plt.figure(figsize=(10, 2.5))\n",
    "for i in range(n_row*n_col):\n",
    "    comp = X[i]\n",
    "    plt.subplot(n_row, n_col, i + 1)\n",
    "    vmax = max(comp.max(), -comp.min())\n",
    "    plt.imshow(comp.reshape([64,64]), cmap=plt.cm.gray, interpolation='nearest')\n",
    "    plt.xticks(())\n",
    "    plt.yticks(())\n",
    "plt.tight_layout(h_pad=0, w_pad=0)\n",
    "plt.show()"
   ]
  },
  {
   "cell_type": "code",
   "execution_count": 438,
   "metadata": {
    "collapsed": false
   },
   "outputs": [
    {
     "name": "stdout",
     "output_type": "stream",
     "text": [
      "[ 0.26868325  0.12364623  0.07829619  0.04698626  0.03249088  0.0309996\n",
      "  0.02388469  0.02072743  0.01861741  0.01648309  0.01536437  0.01348142\n",
      "  0.01228555  0.01140236  0.01097893  0.00958287  0.00867607  0.0079602\n",
      "  0.00752019  0.00717725  0.00672674  0.00653199  0.00595081  0.00551587\n",
      "  0.00531856  0.00511636  0.00496812  0.0047389   0.00421677  0.00410511\n",
      "  0.00393181  0.00371125  0.00364884  0.00334552  0.00325632  0.00319444\n",
      "  0.003087    0.00289693  0.00284861  0.00268169]\n"
     ]
    }
   ],
   "source": [
    "# PCA\n",
    "n_components = 40\n",
    "pca = PCA(n_components=n_components)\n",
    "X_reduced = pca.fit_transform(X)\n",
    "print(pca.explained_variance_ratio_)"
   ]
  },
  {
   "cell_type": "code",
   "execution_count": 439,
   "metadata": {
    "collapsed": true
   },
   "outputs": [],
   "source": [
    "var_exp = pca.explained_variance_ratio_\n",
    "cum_var_exp = np.cumsum(var_exp)"
   ]
  },
  {
   "cell_type": "code",
   "execution_count": 440,
   "metadata": {
    "collapsed": false
   },
   "outputs": [],
   "source": [
    "import matplotlib.pyplot as plt\n",
    "plt.bar(range(1,n_components+1),var_exp,alpha=0.5,align='center',label='Explained variance')\n",
    "plt.step(range(1,n_components+1),cum_var_exp,alpha=0.5,where='mid',label='Cumulative explained variance')\n",
    "plt.ylabel('Explained variance ratio')\n",
    "plt.xlabel('Principal components')\n",
    "plt.legend(loc='best')\n",
    "plt.show()"
   ]
  },
  {
   "cell_type": "code",
   "execution_count": 441,
   "metadata": {
    "collapsed": false
   },
   "outputs": [
    {
     "name": "stdout",
     "output_type": "stream",
     "text": [
      "\n",
      " Eigenvalues \n",
      "[  5.03948214e+01   3.31169716e+01   1.99801594e+01   1.79108634e+01\n",
      "   1.29026107e+01   1.06084785e+01   8.49759493e+00   7.95578203e+00\n",
      "   6.76789667e+00   6.15551986e+00   5.45872771e+00   5.22128849e+00\n",
      "   4.57287435e+00   4.38463536e+00   3.93662971e+00   3.53436989e+00\n",
      "   3.18240839e+00   3.00958319e+00   2.89787455e+00   2.82521507e+00\n",
      "   2.61505141e+00   2.47735302e+00   2.23886695e+00   2.12378982e+00\n",
      "   2.04600304e+00   2.00586040e+00   1.90661530e+00   1.73087115e+00\n",
      "   1.64078714e+00   1.57052873e+00   1.50839624e+00   1.46322559e+00\n",
      "   1.41173772e+00   1.32136458e+00   1.28185964e+00   1.23317759e+00\n",
      "   1.20838431e+00   1.14031160e+00   1.08520798e+00   1.06907754e+00\n",
      "   1.01816045e+00   9.97642369e-01   9.77449720e-01   9.31378059e-01\n",
      "   9.22926751e-01   8.99158434e-01   8.87558174e-01   8.60709068e-01\n",
      "   8.31135826e-01   8.12056274e-01   7.83097680e-01   7.77450021e-01\n",
      "   7.53778406e-01   7.19616996e-01   7.12249155e-01   6.81185458e-01\n",
      "   6.60476736e-01   6.35122579e-01   6.29948257e-01   6.24598488e-01\n",
      "   6.06055786e-01   5.96006685e-01   5.88000370e-01   5.72451821e-01\n",
      "   5.58980702e-01   5.53709298e-01   5.44257361e-01   5.28727746e-01\n",
      "   5.26265386e-01   5.06105789e-01   5.07630591e-01   4.91866448e-01\n",
      "   4.85473393e-01   4.77330790e-01   4.61726834e-01   4.58004007e-01\n",
      "   4.40991639e-01   4.30771973e-01   4.24467365e-01   4.21682468e-01\n",
      "   4.17339293e-01   4.10870769e-01   3.81908058e-01   3.88354538e-01\n",
      "   3.91223737e-01   1.51353726e-04   1.38674542e-03   3.77115841e-01\n",
      "   3.66380181e-01   3.62789046e-01   3.60784020e-01   3.54503368e-01\n",
      "   3.45324755e-01   3.39406202e-01   3.35580083e-01   3.29974413e-01\n",
      "   3.28103960e-01   3.25433770e-01   3.17713413e-01   3.11307934e-01\n",
      "   3.07061793e-01   3.02278605e-01   2.95372966e-01   2.92138201e-01\n",
      "   2.89065401e-01   2.86325407e-01   2.81868087e-01   2.77565840e-01\n",
      "   2.76317784e-01   2.49245311e-01   2.53127063e-01   2.70113997e-01\n",
      "   2.60529166e-01   2.63631013e-01   2.65825017e-01   2.46172434e-01\n",
      "   2.44588997e-01   2.42695656e-01   2.37163661e-01   2.35673323e-01\n",
      "   2.31950658e-01   2.27244595e-01   2.26280380e-01   2.24135712e-01\n",
      "   2.22441276e-01   2.20685132e-01   2.18174718e-01   2.13195776e-01\n",
      "   2.11271910e-01   2.09878015e-01   2.07709897e-01   2.05102618e-01\n",
      "   1.99533853e-01   1.95877948e-01   1.95152999e-01   1.92454026e-01\n",
      "   1.93560799e-01   1.89187029e-01   1.85860555e-01   1.82348416e-01\n",
      "   1.80841326e-01   1.78359728e-01   1.77449609e-01   1.74635376e-01\n",
      "   1.75076692e-01   1.71364187e-01   1.70928830e-01   1.57856322e-01\n",
      "   1.68296123e-01   1.66621554e-01   1.60031108e-01   1.64159808e-01\n",
      "   1.62200831e-01   1.62493672e-01   1.56728642e-01   1.54736293e-01\n",
      "   1.54053077e-01   1.37890161e-01   1.39474444e-01   1.51379611e-01\n",
      "   1.50777102e-01   1.49657958e-01   1.41113815e-01   1.42830701e-01\n",
      "   1.44127394e-01   1.45773013e-01   1.46414009e-01   1.23246340e-01\n",
      "   1.23825251e-01   1.25572915e-01   1.35151649e-01   1.34664220e-01\n",
      "   1.33689956e-01   1.27176729e-01   1.29203960e-01   1.31617920e-01\n",
      "   1.30993429e-01   1.30644337e-01   1.10573807e-01   1.12286464e-01\n",
      "   1.12982780e-01   1.13696054e-01   1.14586616e-01   1.21611560e-01\n",
      "   1.17835244e-01   1.20712060e-01   1.19431633e-01   1.19052002e-01\n",
      "   1.08877451e-01   1.08203605e-01   1.06402284e-01   1.00426647e-01\n",
      "   1.00779258e-01   1.05201657e-01   1.02503492e-01   1.03039958e-01\n",
      "   1.04309944e-01   1.04153842e-01   9.95571345e-02   9.84631487e-02\n",
      "   9.73252161e-02   9.68976057e-02   9.60191650e-02   9.41680432e-02\n",
      "   8.98979206e-02   9.26153629e-02   9.07796373e-02   9.16073049e-02\n",
      "   9.13437662e-02   8.88387252e-02   8.82324602e-02   8.76526264e-02\n",
      "   8.61067468e-02   8.47441300e-02   8.48291889e-02   8.35347773e-02\n",
      "   8.22871241e-02   8.19657364e-02   8.00811326e-02   8.11528286e-02\n",
      "   8.06793254e-02   8.06253213e-02   6.44752367e-03   8.23903298e-03\n",
      "   9.03888262e-03   8.73272021e-03   8.63732281e-03   7.76579287e-02\n",
      "   7.75068599e-02   7.70681881e-02   7.61274474e-02   7.52618074e-02\n",
      "   7.57683542e-02   7.37885305e-02   7.36009291e-02   7.22623300e-02\n",
      "   7.20995291e-02   9.78335446e-03   1.00520731e-02   1.06141106e-02\n",
      "   1.12089000e-02   1.14376899e-02   1.19488506e-02   1.22320254e-02\n",
      "   1.24987910e-02   7.11622433e-02   7.02638983e-02   6.98442629e-02\n",
      "   6.92993886e-02   6.86996190e-02   6.62336174e-02   6.66376730e-02\n",
      "   6.74800045e-02   1.27090206e-02   1.30344294e-02   1.33395105e-02\n",
      "   1.31108198e-02   1.36142025e-02   1.39586855e-02   1.43001654e-02\n",
      "   1.45179802e-02   6.57409069e-02   6.50390222e-02   6.44920166e-02\n",
      "   6.33927267e-02   6.31813645e-02   6.24704384e-02   6.23127531e-02\n",
      "   6.12547693e-02   6.17605039e-02   5.95787963e-02   6.04209258e-02\n",
      "   6.04418135e-02   5.90805751e-02   5.83163000e-02   5.76481872e-02\n",
      "   5.71460897e-02   5.67958389e-02   5.60763624e-02   5.23460627e-02\n",
      "   5.24809721e-02   5.54172219e-02   5.30069517e-02   5.35019431e-02\n",
      "   5.43569468e-02   5.47658285e-02   5.48756108e-02   1.48913291e-02\n",
      "   1.50678647e-02   1.81356251e-02   1.53305144e-02   1.54918701e-02\n",
      "   1.57413967e-02   1.73953205e-02   1.60047664e-02   1.72049633e-02\n",
      "   1.70137597e-02   1.62935439e-02   1.63522275e-02   1.66406724e-02\n",
      "   1.65378222e-02   5.07363614e-02   1.89354445e-02   1.85663539e-02\n",
      "   1.83570667e-02   1.79000791e-02   5.05497817e-02   5.10425326e-02\n",
      "   4.95345266e-02   4.93993480e-02   1.91347119e-02   1.95213085e-02\n",
      "   1.96825020e-02   1.96497699e-02   4.87847854e-02   4.83453729e-02\n",
      "   4.86086468e-02   4.74985825e-02   4.63379738e-02   4.67507521e-02\n",
      "   2.01192426e-02   2.10243663e-02   2.11219995e-02   2.14211895e-02\n",
      "   2.15552985e-02   2.26586362e-02   2.22608864e-02   2.18675164e-02\n",
      "   2.19901266e-02   4.56492285e-02   4.69900195e-02   4.68504634e-02\n",
      "   4.54426740e-02   4.49544829e-02   4.20352331e-02   4.22010466e-02\n",
      "   4.30344517e-02   4.34052400e-02   4.45031382e-02   4.45892152e-02\n",
      "   4.38403223e-02   4.25194507e-02   4.08031695e-02   4.07462788e-02\n",
      "   3.96642288e-02   3.92679900e-02   3.91187458e-02   3.85014476e-02\n",
      "   4.17079739e-02   3.76278581e-02   3.43269170e-02   2.29009450e-02\n",
      "   2.32421315e-02   2.35551372e-02   2.41113361e-02   2.45080154e-02\n",
      "   2.45683535e-02   2.51924815e-02   2.78762125e-02   2.57178799e-02\n",
      "   2.63207059e-02   2.61286364e-02   3.79344337e-02   3.72678947e-02\n",
      "   3.73915612e-02   3.66315542e-02   3.62140387e-02   3.41291050e-02\n",
      "   3.53106351e-02   2.30407875e-02   2.35133484e-02   3.27944073e-02\n",
      "   3.34253248e-02   3.24177650e-02   3.20726528e-02   3.09904861e-02\n",
      "   3.06297782e-02   3.01402312e-02   2.82517116e-02   2.67795773e-02\n",
      "   2.55412287e-02   2.58862346e-02   2.72681773e-02   2.69769585e-02\n",
      "   2.74929966e-02   3.69040249e-02   3.63418889e-02   3.56540352e-02\n",
      "   3.52794745e-02   3.35524553e-02   3.21765793e-02   3.33047874e-02\n",
      "   3.15425203e-02   2.89325638e-02   2.87737449e-02   2.88300500e-02\n",
      "   2.94352690e-02   2.96595640e-02   3.04810689e-02   2.96972670e-02]\n"
     ]
    }
   ],
   "source": [
    "# eigenvalues and eigenvectors\n",
    "cov_mat = np.cov(X)\n",
    "eigen_vals, eigen_vecs = np.linalg.eig(cov_mat)\n",
    "print('\\n Eigenvalues \\n%s' % eigen_vals)"
   ]
  },
  {
   "cell_type": "code",
   "execution_count": 220,
   "metadata": {
    "collapsed": false
   },
   "outputs": [
    {
     "data": {
      "text/plain": [
       "400"
      ]
     },
     "execution_count": 220,
     "metadata": {},
     "output_type": "execute_result"
    }
   ],
   "source": [
    "len(eigen_vals)"
   ]
  },
  {
   "cell_type": "code",
   "execution_count": null,
   "metadata": {
    "collapsed": true
   },
   "outputs": [],
   "source": []
  }
 ],
 "metadata": {
  "kernelspec": {
   "display_name": "Python [Root]",
   "language": "python",
   "name": "Python [Root]"
  },
  "language_info": {
   "codemirror_mode": {
    "name": "ipython",
    "version": 3
   },
   "file_extension": ".py",
   "mimetype": "text/x-python",
   "name": "python",
   "nbconvert_exporter": "python",
   "pygments_lexer": "ipython3",
   "version": "3.5.1"
  }
 },
 "nbformat": 4,
 "nbformat_minor": 0
}
