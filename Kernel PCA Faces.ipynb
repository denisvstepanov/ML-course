{
 "cells": [
  {
   "cell_type": "code",
   "execution_count": 79,
   "metadata": {
    "collapsed": true
   },
   "outputs": [],
   "source": [
    "import matplotlib.pyplot as plt\n",
    "import numpy as np\n",
    "import pandas as pd\n",
    "from sklearn import datasets"
   ]
  },
  {
   "cell_type": "code",
   "execution_count": 80,
   "metadata": {
    "collapsed": true
   },
   "outputs": [],
   "source": [
    "#### olivetti faces data\n",
    "faces = datasets.fetch_olivetti_faces()\n",
    "X = faces.data\n",
    "y = faces.target"
   ]
  },
  {
   "cell_type": "code",
   "execution_count": 81,
   "metadata": {
    "collapsed": true
   },
   "outputs": [],
   "source": [
    "# data scalling\n",
    "from sklearn.preprocessing import StandardScaler\n",
    "sc = StandardScaler()\n",
    "sc.fit(X)\n",
    "X = sc.transform(X)"
   ]
  },
  {
   "cell_type": "code",
   "execution_count": 84,
   "metadata": {
    "collapsed": false
   },
   "outputs": [
    {
     "data": {
      "text/plain": [
       "KernelPCA(alpha=1.0, coef0=1, degree=3, eigen_solver='auto',\n",
       "     fit_inverse_transform=True, gamma=None, kernel='rbf',\n",
       "     kernel_params=None, max_iter=None, n_components=4096,\n",
       "     remove_zero_eig=False, tol=0)"
      ]
     },
     "execution_count": 84,
     "metadata": {},
     "output_type": "execute_result"
    }
   ],
   "source": [
    "# Kernel PCA\n",
    "n_components = 4096\n",
    "from sklearn.decomposition import KernelPCA\n",
    "kpca = KernelPCA(n_components=n_components,kernel=\"rbf\",fit_inverse_transform=True)\n",
    "kpca.fit(X)\n",
    "#X_reduced = kpca.fit_transform(X)"
   ]
  },
  {
   "cell_type": "code",
   "execution_count": 85,
   "metadata": {
    "collapsed": false
   },
   "outputs": [
    {
     "data": {
      "text/plain": [
       "array([[-0.13625217,  0.26441951, -0.25889467, ...,  0.00605173,\n",
       "         0.00782302,  0.00058988],\n",
       "       [-0.13629177,  0.26445161, -0.25883844, ...,  0.0059965 ,\n",
       "         0.00773021,  0.00058889],\n",
       "       [-0.13632687,  0.26448429, -0.25876123, ...,  0.00614539,\n",
       "         0.00775429,  0.00060504],\n",
       "       ..., \n",
       "       [-0.13606972,  0.26368022, -0.25931879, ...,  0.00618587,\n",
       "         0.00786466,  0.00060261],\n",
       "       [-0.13602741,  0.26371551, -0.2593143 , ...,  0.00617066,\n",
       "         0.008161  ,  0.00060748],\n",
       "       [-0.13602667,  0.26375057, -0.25932924, ...,  0.0062597 ,\n",
       "         0.00829761,  0.00059967]])"
      ]
     },
     "execution_count": 85,
     "metadata": {},
     "output_type": "execute_result"
    }
   ],
   "source": [
    "# create identity matrix\n",
    "I = np.identity(eigen_vecs.shape[0])\n",
    "# obtain coefficients\n",
    "coef = kpca.transform(I)\n",
    "coef"
   ]
  },
  {
   "cell_type": "code",
   "execution_count": 86,
   "metadata": {
    "collapsed": false
   },
   "outputs": [],
   "source": [
    "i = np.zeros(400)\n",
    "i[399] = 1\n",
    "X_samples = kpca.inverse_transform(i.reshape(1,-1))"
   ]
  },
  {
   "cell_type": "code",
   "execution_count": 87,
   "metadata": {
    "collapsed": true
   },
   "outputs": [],
   "source": [
    "# generated face\n",
    "face = X_samples\n",
    "plt.subplot(1, 1, 1)\n",
    "vmax = max(face.max(), -face.min())\n",
    "plt.imshow(face.reshape([64, 64]), cmap=plt.cm.gray)\n",
    "plt.show()"
   ]
  },
  {
   "cell_type": "code",
   "execution_count": 92,
   "metadata": {
    "collapsed": true
   },
   "outputs": [],
   "source": [
    "# generated face\n",
    "face = np.zeros(4096)\n",
    "for j in range (0,1):\n",
    "    i = np.zeros(400)\n",
    "    i[j] = 1\n",
    "    face = face + kpca.inverse_transform(i.reshape(1,-1))\n",
    "plt.subplot(1, 1, 1)\n",
    "vmax = max(face.max(), -face.min())\n",
    "plt.imshow(face.reshape([64, 64]), cmap=plt.cm.gray)\n",
    "plt.show()"
   ]
  },
  {
   "cell_type": "code",
   "execution_count": null,
   "metadata": {
    "collapsed": true
   },
   "outputs": [],
   "source": []
  }
 ],
 "metadata": {
  "kernelspec": {
   "display_name": "Python [Root]",
   "language": "python",
   "name": "Python [Root]"
  },
  "language_info": {
   "codemirror_mode": {
    "name": "ipython",
    "version": 3
   },
   "file_extension": ".py",
   "mimetype": "text/x-python",
   "name": "python",
   "nbconvert_exporter": "python",
   "pygments_lexer": "ipython3",
   "version": "3.5.1"
  }
 },
 "nbformat": 4,
 "nbformat_minor": 0
}
