{
 "cells": [
  {
   "cell_type": "code",
   "execution_count": 12,
   "metadata": {
    "collapsed": true
   },
   "outputs": [],
   "source": [
    "import matplotlib.pyplot as plt\n",
    "import numpy as np\n",
    "import pandas as pd\n",
    "import scipy.stats as stats\n",
    "import seaborn as sns"
   ]
  },
  {
   "cell_type": "code",
   "execution_count": 13,
   "metadata": {
    "collapsed": true
   },
   "outputs": [],
   "source": [
    "def expon_pdf(x, lmabd=1):\n",
    "    \"\"\"PDF of exponential distribution.\"\"\"\n",
    "    return lmabd*np.exp(-lmabd*x)"
   ]
  },
  {
   "cell_type": "code",
   "execution_count": 14,
   "metadata": {
    "collapsed": true
   },
   "outputs": [],
   "source": [
    "def expon_cdf(x, lambd=1):\n",
    "    \"\"\"CDF of exponetial distribution.\"\"\"\n",
    "    return 1 - np.exp(-lambd*x)"
   ]
  },
  {
   "cell_type": "code",
   "execution_count": 15,
   "metadata": {
    "collapsed": true
   },
   "outputs": [],
   "source": [
    "def expon_icdf(p, lambd=1):\n",
    "    \"\"\"Inverse CDF of exponential distribution - i.e. quantile function.\"\"\"\n",
    "    return -np.log(1-p)/lambd"
   ]
  },
  {
   "cell_type": "code",
   "execution_count": 16,
   "metadata": {
    "collapsed": false
   },
   "outputs": [],
   "source": [
    "dist = stats.expon()\n",
    "x = np.linspace(0,4,100)\n",
    "y = np.linspace(0,1,100)\n",
    "\n",
    "with plt.xkcd():\n",
    "    plt.figure(figsize=(12,4))\n",
    "    plt.subplot(121)\n",
    "    plt.plot(x, expon_cdf(x))\n",
    "    plt.axis([0, 4, 0, 1])\n",
    "    for q in [0.5, 0.8]:\n",
    "        plt.arrow(0, q, expon_icdf(q)-0.1, 0, head_width=0.05, head_length=0.1, fc='b', ec='b')\n",
    "        plt.arrow(expon_icdf(q), q, 0, -q+0.1, head_width=0.1, head_length=0.05, fc='b', ec='b')\n",
    "    plt.ylabel('1: Generate a (0,1) uniform PRNG')\n",
    "    plt.xlabel('2: Find the inverse CDF')\n",
    "    plt.title('Inverse transform method');\n",
    "\n",
    "    plt.subplot(122)\n",
    "    u = np.random.random(10000)\n",
    "    v = expon_icdf(u)\n",
    "    plt.hist(v, histtype='step', bins=100, normed=True, linewidth=2)\n",
    "    plt.plot(x, expon_pdf(x), linewidth=2)\n",
    "    plt.axis([0,4,0,1])\n",
    "    plt.title('Histogram of exponential PRNGs')\n",
    "    plt.show()"
   ]
  },
  {
   "cell_type": "code",
   "execution_count": null,
   "metadata": {
    "collapsed": true
   },
   "outputs": [],
   "source": []
  }
 ],
 "metadata": {
  "kernelspec": {
   "display_name": "Python [Root]",
   "language": "python",
   "name": "Python [Root]"
  },
  "language_info": {
   "codemirror_mode": {
    "name": "ipython",
    "version": 3
   },
   "file_extension": ".py",
   "mimetype": "text/x-python",
   "name": "python",
   "nbconvert_exporter": "python",
   "pygments_lexer": "ipython3",
   "version": "3.5.1"
  }
 },
 "nbformat": 4,
 "nbformat_minor": 0
}
