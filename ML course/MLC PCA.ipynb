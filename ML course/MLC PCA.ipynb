{
 "cells": [
  {
   "cell_type": "code",
   "execution_count": 1,
   "metadata": {
    "collapsed": true
   },
   "outputs": [],
   "source": [
    "import matplotlib.pyplot as plt\n",
    "import numpy as np\n",
    "import pandas as pd\n",
    "from sklearn import datasets"
   ]
  },
  {
   "cell_type": "code",
   "execution_count": 2,
   "metadata": {
    "collapsed": true
   },
   "outputs": [],
   "source": [
    "#### olivetti faces data\n",
    "faces = datasets.fetch_olivetti_faces()\n",
    "X = faces.data\n",
    "y = faces.target"
   ]
  },
  {
   "cell_type": "code",
   "execution_count": 3,
   "metadata": {
    "collapsed": true
   },
   "outputs": [],
   "source": [
    "# data scalling\n",
    "from sklearn.preprocessing import StandardScaler\n",
    "sc = StandardScaler()\n",
    "sc.fit(X)\n",
    "X = sc.transform(X)"
   ]
  },
  {
   "cell_type": "code",
   "execution_count": 4,
   "metadata": {
    "collapsed": true
   },
   "outputs": [],
   "source": [
    "# http://stackoverflow.com/questions/16856788/slice-2d-array-into-smaller-2d-arrays\n",
    "def blocks(A,nrows,ncols):\n",
    "    h,w=A.shape\n",
    "    return (A.reshape(h//nrows,nrows,-1,ncols).swapaxes(1,2).reshape(-1,nrows,ncols))"
   ]
  },
  {
   "cell_type": "code",
   "execution_count": 5,
   "metadata": {
    "collapsed": true
   },
   "outputs": [],
   "source": [
    "def splitIntoBlocks(X,n,m):\n",
    "    Xb = []\n",
    "    Yb = []\n",
    "    for i in range(X.shape[0]):\n",
    "        B = blocks(X[i,].reshape(n,n),nrows=m,ncols=m)\n",
    "        for j in range(B.shape[0]):\n",
    "            Xb.append(B[j].reshape(m*m))\n",
    "            Yb.append(j)\n",
    "    return np.asarray(Xb),np.asarray(Yb)"
   ]
  },
  {
   "cell_type": "code",
   "execution_count": 38,
   "metadata": {
    "collapsed": true
   },
   "outputs": [],
   "source": [
    "pict_size = 64\n",
    "frame_size = 16\n",
    "grid_size = pict_size//frame_size\n",
    "n_components = grid_size**2\n",
    "n_clusters = n_components"
   ]
  },
  {
   "cell_type": "code",
   "execution_count": 30,
   "metadata": {
    "collapsed": false
   },
   "outputs": [],
   "source": [
    "Xb, Yb = splitIntoBlocks(X,pict_size,frame_size)"
   ]
  },
  {
   "cell_type": "code",
   "execution_count": 31,
   "metadata": {
    "collapsed": false
   },
   "outputs": [
    {
     "data": {
      "text/plain": [
       "PCA(copy=True, n_components=16, whiten=False)"
      ]
     },
     "execution_count": 31,
     "metadata": {},
     "output_type": "execute_result"
    }
   ],
   "source": [
    "from sklearn.decomposition import PCA\n",
    "# PCA\n",
    "pca = PCA(n_components=n_components)\n",
    "pca.fit(Xb)"
   ]
  },
  {
   "cell_type": "code",
   "execution_count": 32,
   "metadata": {
    "collapsed": false
   },
   "outputs": [],
   "source": [
    "# face PARTS principal components\n",
    "face = pca.components_\n",
    "rng = np.arange(1,n_components+1,1)\n",
    "for i in rng:\n",
    "    plt.subplot(grid_size, grid_size,i)\n",
    "    vmax = max(face[i-1].max(), -face[i-1].min())\n",
    "    plt.imshow(face[i-1].reshape([frame_size, frame_size]), cmap=plt.cm.gray)\n",
    "plt.show()"
   ]
  },
  {
   "cell_type": "code",
   "execution_count": 39,
   "metadata": {
    "collapsed": false
   },
   "outputs": [
    {
     "data": {
      "text/plain": [
       "KMeans(copy_x=True, init='k-means++', max_iter=300, n_clusters=16, n_init=10,\n",
       "    n_jobs=1, precompute_distances='auto', random_state=None, tol=0.0001,\n",
       "    verbose=0)"
      ]
     },
     "execution_count": 39,
     "metadata": {},
     "output_type": "execute_result"
    }
   ],
   "source": [
    "# clustering\n",
    "from sklearn.cluster import KMeans\n",
    "km = KMeans(n_clusters = n_clusters)\n",
    "km.fit(Xb)"
   ]
  },
  {
   "cell_type": "code",
   "execution_count": 10,
   "metadata": {
    "collapsed": false
   },
   "outputs": [
    {
     "data": {
      "text/plain": [
       "array([ 0,  1,  2,  3,  4,  5,  6,  7,  8,  9, 10, 11, 12, 13, 14, 15, 16,\n",
       "       17, 18, 19, 20, 21, 22, 23, 24, 25, 26, 27, 28, 29, 30, 31, 32, 33,\n",
       "       34, 35, 36, 37, 38, 39, 40, 41, 42, 43, 44, 45, 46, 47, 48, 49, 50,\n",
       "       51, 52, 53, 54, 55, 56, 57, 58, 59, 60, 61, 62, 63])"
      ]
     },
     "execution_count": 10,
     "metadata": {},
     "output_type": "execute_result"
    }
   ],
   "source": [
    "Yb[0:64]"
   ]
  },
  {
   "cell_type": "code",
   "execution_count": 11,
   "metadata": {
    "collapsed": false
   },
   "outputs": [
    {
     "data": {
      "text/plain": [
       "array([ 8, 45, 45, 33,  3,  8, 42, 57, 63, 42, 35,  7, 35,  7,  7, 26, 12,\n",
       "       39,  4, 19,  4,  6, 12, 51,  3, 45, 45, 15,  3, 45,  8, 42, 39, 52,\n",
       "       42, 35,  7,  7, 52, 12, 61, 10, 52,  7, 18, 10, 18, 57, 34, 10, 52,\n",
       "        0,  0, 18, 18, 50, 34, 10, 10, 18,  7, 18, 18, 57])"
      ]
     },
     "execution_count": 11,
     "metadata": {},
     "output_type": "execute_result"
    }
   ],
   "source": [
    "km.labels_[0:64]"
   ]
  },
  {
   "cell_type": "code",
   "execution_count": 42,
   "metadata": {
    "collapsed": true
   },
   "outputs": [],
   "source": [
    "plt.scatter(Yb,km.labels_,alpha=0.5)\n",
    "plt.show()"
   ]
  },
  {
   "cell_type": "code",
   "execution_count": 41,
   "metadata": {
    "collapsed": false
   },
   "outputs": [],
   "source": [
    "tbl = {}\n",
    "tbl['alphabet'] = Yb\n",
    "tbl['labels'] = km.labels_\n",
    "tbl = pd.DataFrame(tbl)\n",
    "#tbl"
   ]
  },
  {
   "cell_type": "code",
   "execution_count": 36,
   "metadata": {
    "collapsed": false
   },
   "outputs": [
    {
     "data": {
      "text/html": [
       "<div>\n",
       "<table border=\"1\" class=\"dataframe\">\n",
       "  <thead>\n",
       "    <tr style=\"text-align: right;\">\n",
       "      <th></th>\n",
       "      <th>labels</th>\n",
       "    </tr>\n",
       "    <tr>\n",
       "      <th>alphabet</th>\n",
       "      <th></th>\n",
       "    </tr>\n",
       "  </thead>\n",
       "  <tbody>\n",
       "    <tr>\n",
       "      <th>0</th>\n",
       "      <td>(60, 47, 60, 27, 32, 33, 33, 63, 40, 60, 20, 2...</td>\n",
       "    </tr>\n",
       "    <tr>\n",
       "      <th>1</th>\n",
       "      <td>(47, 2, 47, 60, 32, 47, 28, 32, 28, 12, 15, 15...</td>\n",
       "    </tr>\n",
       "    <tr>\n",
       "      <th>2</th>\n",
       "      <td>(47, 47, 47, 0, 35, 60, 47, 39, 39, 35, 53, 53...</td>\n",
       "    </tr>\n",
       "    <tr>\n",
       "      <th>3</th>\n",
       "      <td>(37, 43, 47, 39, 10, 39, 37, 37, 10, 10, 60, 6...</td>\n",
       "    </tr>\n",
       "    <tr>\n",
       "      <th>4</th>\n",
       "      <td>(32, 32, 32, 27, 32, 17, 7, 11, 23, 7, 54, 7, ...</td>\n",
       "    </tr>\n",
       "  </tbody>\n",
       "</table>\n",
       "</div>"
      ],
      "text/plain": [
       "                                                     labels\n",
       "alphabet                                                   \n",
       "0         (60, 47, 60, 27, 32, 33, 33, 63, 40, 60, 20, 2...\n",
       "1         (47, 2, 47, 60, 32, 47, 28, 32, 28, 12, 15, 15...\n",
       "2         (47, 47, 47, 0, 35, 60, 47, 39, 39, 35, 53, 53...\n",
       "3         (37, 43, 47, 39, 10, 39, 37, 37, 10, 10, 60, 6...\n",
       "4         (32, 32, 32, 27, 32, 17, 7, 11, 23, 7, 54, 7, ..."
      ]
     },
     "execution_count": 36,
     "metadata": {},
     "output_type": "execute_result"
    }
   ],
   "source": [
    "grouped = tbl.groupby(['alphabet'])\n",
    "tbl1 = grouped.aggregate(lambda x:tuple(x))\n",
    "tbl1.head()"
   ]
  },
  {
   "cell_type": "code",
   "execution_count": 43,
   "metadata": {
    "collapsed": false
   },
   "outputs": [],
   "source": [
    "# face PARTS cluster centers\n",
    "face = km.cluster_centers_\n",
    "rng = np.arange(1,n_clusters+1,1)\n",
    "for i in rng:\n",
    "    plt.subplot(grid_size, grid_size,i)\n",
    "    vmax = max(face[i-1].max(), -face[i-1].min())\n",
    "    plt.imshow(face[i-1].reshape([frame_size, frame_size]), cmap=plt.cm.gray)\n",
    "plt.show()"
   ]
  },
  {
   "cell_type": "code",
   "execution_count": 167,
   "metadata": {
    "collapsed": false
   },
   "outputs": [
    {
     "data": {
      "text/plain": [
       "FastICA(algorithm='deflation', fun='cube', fun_args=None, max_iter=200,\n",
       "    n_components=64, random_state=None, tol=0.0001, w_init=None,\n",
       "    whiten=True)"
      ]
     },
     "execution_count": 167,
     "metadata": {},
     "output_type": "execute_result"
    }
   ],
   "source": [
    "from sklearn.decomposition import FastICA\n",
    "ica = FastICA(n_components = n_components, algorithm = 'deflation', fun = 'cube')\n",
    "ica.fit(Xb)"
   ]
  },
  {
   "cell_type": "code",
   "execution_count": 174,
   "metadata": {
    "collapsed": false
   },
   "outputs": [
    {
     "data": {
      "text/plain": [
       "SparsePCA(U_init=None, V_init=None, alpha=5, max_iter=1000, method='lars',\n",
       "     n_components=64, n_jobs=1, random_state=None, ridge_alpha=0.01,\n",
       "     tol=1e-08, verbose=False)"
      ]
     },
     "execution_count": 174,
     "metadata": {},
     "output_type": "execute_result"
    }
   ],
   "source": [
    "from sklearn.decomposition import SparsePCA\n",
    "# Sparse PCA\n",
    "ica = SparsePCA(n_components=n_components, alpha = 5)\n",
    "ica.fit(Xb)"
   ]
  },
  {
   "cell_type": "code",
   "execution_count": 197,
   "metadata": {
    "collapsed": false
   },
   "outputs": [
    {
     "data": {
      "text/plain": [
       "FactorAnalysis(copy=True, iterated_power=3, max_iter=1000, n_components=64,\n",
       "        noise_variance_init=None, random_state=0, svd_method='randomized',\n",
       "        tol=0.01)"
      ]
     },
     "execution_count": 197,
     "metadata": {},
     "output_type": "execute_result"
    }
   ],
   "source": [
    "from sklearn.decomposition import FactorAnalysis\n",
    "ica = FactorAnalysis(n_components=n_components)\n",
    "ica.fit(Xb)"
   ]
  },
  {
   "cell_type": "code",
   "execution_count": 198,
   "metadata": {
    "collapsed": false
   },
   "outputs": [],
   "source": [
    "# face PARTS principal components\n",
    "face = ica.components_\n",
    "rng = np.arange(1,n_components+1,1)\n",
    "for i in rng:\n",
    "    plt.subplot(8, 8,i)\n",
    "    vmax = max(face[i-1].max(), -face[i-1].min())\n",
    "    plt.imshow(face[i-1].reshape([8, 8]), cmap=plt.cm.gray)\n",
    "plt.show()"
   ]
  },
  {
   "cell_type": "code",
   "execution_count": null,
   "metadata": {
    "collapsed": true
   },
   "outputs": [],
   "source": []
  }
 ],
 "metadata": {
  "kernelspec": {
   "display_name": "Python [Root]",
   "language": "python",
   "name": "Python [Root]"
  },
  "language_info": {
   "codemirror_mode": {
    "name": "ipython",
    "version": 3
   },
   "file_extension": ".py",
   "mimetype": "text/x-python",
   "name": "python",
   "nbconvert_exporter": "python",
   "pygments_lexer": "ipython3",
   "version": "3.5.1"
  }
 },
 "nbformat": 4,
 "nbformat_minor": 0
}
