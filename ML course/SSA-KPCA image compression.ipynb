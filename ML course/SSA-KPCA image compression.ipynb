{
 "cells": [
  {
   "cell_type": "code",
   "execution_count": 645,
   "metadata": {
    "collapsed": true
   },
   "outputs": [],
   "source": [
    "import matplotlib.pyplot as plt\n",
    "import numpy as np\n",
    "import pandas as pd\n",
    "\n",
    "from ggplot import *"
   ]
  },
  {
   "cell_type": "code",
   "execution_count": 761,
   "metadata": {
    "collapsed": true
   },
   "outputs": [],
   "source": [
    "n_components = 3"
   ]
  },
  {
   "cell_type": "code",
   "execution_count": 762,
   "metadata": {
    "collapsed": true
   },
   "outputs": [],
   "source": [
    "from sklearn import datasets\n",
    "#### olivetti faces data\n",
    "faces = datasets.fetch_olivetti_faces()"
   ]
  },
  {
   "cell_type": "code",
   "execution_count": 763,
   "metadata": {
    "collapsed": true
   },
   "outputs": [],
   "source": [
    "# take random face\n",
    "i = int(np.ceil(np.random.uniform(400)))\n",
    "X = faces.data[i]"
   ]
  },
  {
   "cell_type": "code",
   "execution_count": 764,
   "metadata": {
    "collapsed": true
   },
   "outputs": [],
   "source": [
    "# add noise to the image\n",
    "Y = np.random.normal(0, 0.5, 4096)\n",
    "#X = X + Y"
   ]
  },
  {
   "cell_type": "code",
   "execution_count": 765,
   "metadata": {
    "collapsed": false
   },
   "outputs": [],
   "source": [
    "plt.imshow(X.reshape(64,64),cmap=plt.cm.gray)\n",
    "plt.show()"
   ]
  },
  {
   "cell_type": "code",
   "execution_count": 766,
   "metadata": {
    "collapsed": true
   },
   "outputs": [],
   "source": [
    "# settings\n",
    "N = 4096\n",
    "L = 50\n",
    "K = N - L + 1"
   ]
  },
  {
   "cell_type": "code",
   "execution_count": 767,
   "metadata": {
    "collapsed": true
   },
   "outputs": [],
   "source": [
    "S = X.reshape(-1)\n",
    "# create trajectory matrix\n",
    "T = np.zeros((L, K))\n",
    "for i in np.arange(K):\n",
    "    T[:, i] = S[i:L + i]"
   ]
  },
  {
   "cell_type": "code",
   "execution_count": 768,
   "metadata": {
    "collapsed": true
   },
   "outputs": [],
   "source": [
    "from sklearn.decomposition import KernelPCA\n",
    "pca = KernelPCA(n_components=n_components, kernel=\"rbf\", fit_inverse_transform=True, gamma=0.1)\n",
    "pca = KernelPCA(n_components=n_components, kernel=\"poly\", fit_inverse_transform=True, coef0=100.0, degree=3,alpha=1.0)\n",
    "#pca = KernelPCA(n_components=n_components, kernel='linear', fit_inverse_transform=True)\n",
    "#pca = KernelPCA(n_components=n_components, kernel='cosine', fit_inverse_transform=True)\n",
    "#pca = KernelPCA(n_components=n_components, kernel='sigmoid', fit_inverse_transform=True, coef0=100.0)"
   ]
  },
  {
   "cell_type": "code",
   "execution_count": 769,
   "metadata": {
    "collapsed": true
   },
   "outputs": [],
   "source": [
    "# project data\n",
    "T_proj = pca.fit_transform(T)"
   ]
  },
  {
   "cell_type": "code",
   "execution_count": 770,
   "metadata": {
    "collapsed": true
   },
   "outputs": [],
   "source": [
    "# recover original space\n",
    "T_rec = pca.inverse_transform(T_proj)"
   ]
  },
  {
   "cell_type": "code",
   "execution_count": 771,
   "metadata": {
    "collapsed": true
   },
   "outputs": [],
   "source": [
    "# inverse diagonal averaging - recover signal\n",
    "S_rec = np.zeros_like(S)\n",
    "for i in np.arange(-T_rec.shape[0] + 1, T_rec.shape[1]):\n",
    "    S_rec[i + T_rec.shape[0] - 1] = np.mean(np.diagonal(T_rec[:,::-1], i))"
   ]
  },
  {
   "cell_type": "code",
   "execution_count": 772,
   "metadata": {
    "collapsed": true
   },
   "outputs": [],
   "source": [
    "X_rec = S_rec.reshape(64, 64)"
   ]
  },
  {
   "cell_type": "code",
   "execution_count": 773,
   "metadata": {
    "collapsed": true
   },
   "outputs": [],
   "source": [
    "plt.imshow(X_rec.reshape(64,64)[::-1],cmap=plt.cm.gray)\n",
    "plt.show()"
   ]
  },
  {
   "cell_type": "code",
   "execution_count": null,
   "metadata": {
    "collapsed": true
   },
   "outputs": [],
   "source": []
  }
 ],
 "metadata": {
  "kernelspec": {
   "display_name": "Python [Root]",
   "language": "python",
   "name": "Python [Root]"
  },
  "language_info": {
   "codemirror_mode": {
    "name": "ipython",
    "version": 3
   },
   "file_extension": ".py",
   "mimetype": "text/x-python",
   "name": "python",
   "nbconvert_exporter": "python",
   "pygments_lexer": "ipython3",
   "version": "3.5.1"
  }
 },
 "nbformat": 4,
 "nbformat_minor": 0
}
