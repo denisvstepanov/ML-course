{
 "cells": [
  {
   "cell_type": "code",
   "execution_count": 1,
   "metadata": {
    "collapsed": true
   },
   "outputs": [],
   "source": [
    "import matplotlib.pyplot as plt\n",
    "import numpy as np\n",
    "import pandas as pd\n",
    "from sklearn import datasets"
   ]
  },
  {
   "cell_type": "code",
   "execution_count": 2,
   "metadata": {
    "collapsed": true
   },
   "outputs": [],
   "source": [
    "from sklearn import datasets\n",
    "iris = datasets.load_iris()\n",
    "X = iris.data\n",
    "y = iris.target"
   ]
  },
  {
   "cell_type": "markdown",
   "metadata": {},
   "source": [
    "### Exploratory data analysis"
   ]
  },
  {
   "cell_type": "code",
   "execution_count": 3,
   "metadata": {
    "collapsed": false
   },
   "outputs": [],
   "source": [
    "labels = iris.get('target_names')\n",
    "features = iris.get('feature_names')\n",
    "# make dictionary from two lists\n",
    "label_dict = dict(zip(labels,np.unique(iris.target)))\n",
    "feature_dict = dict(zip(list(range(4)),features))"
   ]
  },
  {
   "cell_type": "code",
   "execution_count": 4,
   "metadata": {
    "collapsed": false
   },
   "outputs": [],
   "source": [
    "# data exploration\n",
    "with plt.style.context('seaborn-whitegrid'):\n",
    "    plt.figure(figsize=(8, 6))\n",
    "    for i in range(4):\n",
    "        plt.subplot(2, 2, i+1)\n",
    "        for label in labels:\n",
    "            plt.hist(X[y==label_dict[label], i],\n",
    "                     label=label,\n",
    "                     bins=10,\n",
    "                     alpha=0.5)\n",
    "        plt.xlabel(feature_dict[i])\n",
    "    plt.legend(loc='upper right', fancybox=True, fontsize=8)\n",
    "\n",
    "    plt.tight_layout()\n",
    "    plt.show()"
   ]
  },
  {
   "cell_type": "code",
   "execution_count": 5,
   "metadata": {
    "collapsed": false
   },
   "outputs": [],
   "source": [
    "# data exploration\n",
    "with plt.xkcd():\n",
    "    plt.figure(figsize=(8, 6))\n",
    "    for i in range(4):\n",
    "        plt.subplot(2, 2, i+1)\n",
    "        for label in labels:\n",
    "            plt.hist(X[y==label_dict[label], i],\n",
    "                     label=label,\n",
    "                     bins=10,\n",
    "                     alpha=0.5)\n",
    "        plt.xlabel(feature_dict[i])\n",
    "    plt.legend(loc='upper right', fancybox=True, fontsize=8)\n",
    "\n",
    "    plt.tight_layout()\n",
    "    plt.show()"
   ]
  },
  {
   "cell_type": "markdown",
   "metadata": {},
   "source": [
    "### Types of learning:\n",
    " 1. Supervised\n",
    " 2. Unsupervised\n",
    " 3. Semi-supervised"
   ]
  },
  {
   "cell_type": "markdown",
   "metadata": {},
   "source": [
    "# Supervised learning"
   ]
  },
  {
   "cell_type": "code",
   "execution_count": 6,
   "metadata": {
    "collapsed": true
   },
   "outputs": [],
   "source": [
    "# supervised learning (PCA)\n",
    "# (1) Split data \n",
    "from sklearn.cross_validation import train_test_split\n",
    "X_train, X_test, y_train, y_test = train_test_split(X,y,test_size=0.3)"
   ]
  },
  {
   "cell_type": "code",
   "execution_count": 7,
   "metadata": {
    "collapsed": false
   },
   "outputs": [],
   "source": [
    "# (2) Scale data\n",
    "from sklearn.preprocessing import StandardScaler\n",
    "sc = StandardScaler()\n",
    "sc.fit(X_train)\n",
    "X_train = sc.transform(X_train)\n",
    "X_test = sc.transform(X_test)"
   ]
  },
  {
   "cell_type": "code",
   "execution_count": 8,
   "metadata": {
    "collapsed": false
   },
   "outputs": [],
   "source": [
    "# (3) Fit model\n",
    "from sklearn.decomposition import PCA\n",
    "n_components = 4\n",
    "pca = PCA(n_components=n_components)\n",
    "pca.fit(X_train)\n",
    "X_reduced = pca.transform(X_train)"
   ]
  },
  {
   "cell_type": "code",
   "execution_count": 482,
   "metadata": {
    "collapsed": false
   },
   "outputs": [
    {
     "data": {
      "text/html": [
       "<div>\n",
       "<table border=\"1\" class=\"dataframe\">\n",
       "  <thead>\n",
       "    <tr style=\"text-align: right;\">\n",
       "      <th></th>\n",
       "      <th>sepal length (cm)</th>\n",
       "      <th>sepal width (cm)</th>\n",
       "      <th>petal length (cm)</th>\n",
       "      <th>petal width (cm)</th>\n",
       "    </tr>\n",
       "  </thead>\n",
       "  <tbody>\n",
       "    <tr>\n",
       "      <th>0</th>\n",
       "      <td>0.524330</td>\n",
       "      <td>-0.271561</td>\n",
       "      <td>0.578087</td>\n",
       "      <td>0.563159</td>\n",
       "    </tr>\n",
       "    <tr>\n",
       "      <th>1</th>\n",
       "      <td>-0.367225</td>\n",
       "      <td>-0.926271</td>\n",
       "      <td>-0.022551</td>\n",
       "      <td>-0.081602</td>\n",
       "    </tr>\n",
       "    <tr>\n",
       "      <th>2</th>\n",
       "      <td>0.716814</td>\n",
       "      <td>-0.224034</td>\n",
       "      <td>-0.123511</td>\n",
       "      <td>-0.648638</td>\n",
       "    </tr>\n",
       "    <tr>\n",
       "      <th>3</th>\n",
       "      <td>0.276407</td>\n",
       "      <td>-0.134481</td>\n",
       "      <td>-0.806258</td>\n",
       "      <td>0.505432</td>\n",
       "    </tr>\n",
       "  </tbody>\n",
       "</table>\n",
       "</div>"
      ],
      "text/plain": [
       "   sepal length (cm)  sepal width (cm)  petal length (cm)  petal width (cm)\n",
       "0           0.524330         -0.271561           0.578087          0.563159\n",
       "1          -0.367225         -0.926271          -0.022551         -0.081602\n",
       "2           0.716814         -0.224034          -0.123511         -0.648638\n",
       "3           0.276407         -0.134481          -0.806258          0.505432"
      ]
     },
     "execution_count": 482,
     "metadata": {},
     "output_type": "execute_result"
    }
   ],
   "source": [
    "pd.DataFrame(pca.components_,columns=df.columns)"
   ]
  },
  {
   "cell_type": "code",
   "execution_count": 583,
   "metadata": {
    "collapsed": false
   },
   "outputs": [],
   "source": [
    "# plot eigenvectors\n",
    "eig_vec = pca.components_[:2,:2]\n",
    "X0 = [0,0]\n",
    "Y0 = [0,0]\n",
    "U,V = zip(*eig_vec)\n",
    "ax = plt.gca()\n",
    "ax.quiver(X0,Y0,U,V,angles='xy',scale_units='xy',scale=1)\n",
    "plt.scatter(X_train[:, 0], X_train[:, 1], c=y_train)\n",
    "ax.set_xlim([-4,4])\n",
    "ax.set_ylim([-4,4])\n",
    "plt.show()"
   ]
  },
  {
   "cell_type": "code",
   "execution_count": 11,
   "metadata": {
    "collapsed": false
   },
   "outputs": [],
   "source": [
    "# PCA 3D PLOT WITH EIGENVECTORS\n",
    "from mpl_toolkits.mplot3d import Axes3D\n",
    "n_components = 4\n",
    "from sklearn.decomposition import PCA\n",
    "pca = PCA(n_components=n_components)\n",
    "pca.fit(X_train)\n",
    "X_reduced = pca.fit_transform(X_train)\n",
    "eig_vec = pca.components_[:3,:3]\n",
    "X0 = [0,0,0]\n",
    "Y0 = [0,0,0]\n",
    "Z0 = [0,0,0]\n",
    "U,V,W = zip(*eig_vec)\n",
    "fig = plt.figure()\n",
    "ax = fig.add_subplot(111, projection='3d')\n",
    "ax.quiver(X0,Y0,Z0,U,V,W,length=2)\n",
    "ax.scatter(X_reduced[:, 0], X_reduced[:, 1], X_reduced[:, 2], c=y_train, s = 30)\n",
    "ax.set_title('3D Vector Field')             # title\n",
    "ax.view_init(elev=18, azim=30)              # camera elevation and angle\n",
    "ax.dist=8                                   # camera distance\n",
    "plt.show()"
   ]
  },
  {
   "cell_type": "code",
   "execution_count": 124,
   "metadata": {
    "collapsed": true
   },
   "outputs": [],
   "source": [
    "### PCA reduction\n",
    "pca = PCA(n_components=2)\n",
    "pca.fit(X_train)\n",
    "X_reduced = pca.transform(X_train)\n",
    "plt.scatter(X_reduced[:, 0], X_reduced[:, 1], c=y_train)\n",
    "plt.show()"
   ]
  },
  {
   "cell_type": "code",
   "execution_count": 107,
   "metadata": {
    "collapsed": false
   },
   "outputs": [
    {
     "name": "stdout",
     "output_type": "stream",
     "text": [
      "3.33066907388e-16\n"
     ]
    }
   ],
   "source": [
    "# check orthogonality\n",
    "print(np.dot(pca.components_[0], pca.components_[1]))"
   ]
  },
  {
   "cell_type": "code",
   "execution_count": 169,
   "metadata": {
    "collapsed": true
   },
   "outputs": [],
   "source": [
    "### REDUCTION TO ONE DIMENSION\n",
    "from scipy.stats import uniform\n",
    "pca = PCA(n_components=1)\n",
    "X_reduced = pca.fit_transform(X_train)\n",
    "z = uniform.rvs(0,0.0005,size=X_reduced.shape[0])\n",
    "### PCA reduction\n",
    "plt.scatter(X_reduced[:, 0], z, c=y_train)\n",
    "plt.show()"
   ]
  },
  {
   "cell_type": "code",
   "execution_count": 512,
   "metadata": {
    "collapsed": false
   },
   "outputs": [],
   "source": [
    "# Kernel PCA\n",
    "n_components = 2\n",
    "from sklearn.decomposition import KernelPCA\n",
    "kpca = KernelPCA(n_components=n_components,kernel=\"rbf\",fit_inverse_transform=True, gamma = 0.05)\n",
    "kpca.fit(X_train)\n",
    "X_reduced = kpca.fit_transform(X_train)\n",
    "plt.scatter(X_reduced[:, 0], X_reduced[:, 1], c=y_train)\n",
    "plt.show()"
   ]
  },
  {
   "cell_type": "code",
   "execution_count": 579,
   "metadata": {
    "collapsed": false
   },
   "outputs": [],
   "source": [
    "# Kernel PCA 3D PLOT\n",
    "from mpl_toolkits.mplot3d import Axes3D\n",
    "n_components = 4\n",
    "from sklearn.decomposition import KernelPCA\n",
    "kpca = KernelPCA(n_components=n_components,kernel=\"rbf\",fit_inverse_transform=True, gamma = 1.0)\n",
    "kpca.fit(X_train)\n",
    "X_reduced = kpca.fit_transform(X_train)\n",
    "fig = plt.figure()\n",
    "ax = fig.add_subplot(111, projection='3d')\n",
    "ax.scatter(X_reduced[:, 1], X_reduced[:, 2], X_reduced[:,0], c=y_train, s = 30)\n",
    "plt.show()"
   ]
  },
  {
   "cell_type": "code",
   "execution_count": 580,
   "metadata": {
    "collapsed": true
   },
   "outputs": [],
   "source": [
    "# INITIAL COORDINATE LINES LATTICE\n",
    "x = np.arange(-5,5.1,0.5)\n",
    "y = np.arange(-5,5.1,0.5)\n",
    "I = np.vstack(np.meshgrid(x,y)).reshape(2,-1).T\n",
    "grid_dim = len(x)\n",
    "I_dim = I[:,0].shape[0]\n",
    "Ix = I[:, 0].reshape(grid_dim,I_dim//grid_dim)\n",
    "Iy = I[:, 1].reshape(grid_dim,I_dim//grid_dim)\n",
    "for i in range(Ix.shape[0]):\n",
    "    plt.plot(Ix[i],Iy[i],color='b')\n",
    "    plt.plot(Iy[i],Ix[i],color='r')\n",
    "plt.show()"
   ]
  },
  {
   "cell_type": "code",
   "execution_count": 581,
   "metadata": {
    "collapsed": false
   },
   "outputs": [],
   "source": [
    "# LATICE AFTER KERNEL TRANSFORMATION\n",
    "x = np.arange(-5,5.1,0.5)\n",
    "y = np.arange(-5,5.1,0.5)\n",
    "I = np.vstack(np.meshgrid(x,y)).reshape(2,-1).T\n",
    "I = kpca.fit_transform(I)\n",
    "I = I[:,:2]\n",
    "grid_dim = len(x)\n",
    "I_dim = I[:,0].shape[0]\n",
    "Ix = I[:, 0].reshape(grid_dim,I_dim//grid_dim)\n",
    "Iy = I[:, 1].reshape(grid_dim,I_dim//grid_dim)\n",
    "for i in range(Ix.shape[0]):\n",
    "    plt.plot(Ix[i],Iy[i],color='b')\n",
    "    plt.plot(Iy[i],Ix[i],color='r')\n",
    "plt.show()"
   ]
  },
  {
   "cell_type": "code",
   "execution_count": 534,
   "metadata": {
    "collapsed": false
   },
   "outputs": [],
   "source": [
    "# LATICE AFTER KERNEL TRANSFORMATION (COMIC FONT)\n",
    "x = np.arange(-5,5.1,0.5)\n",
    "y = np.arange(-5,5.1,0.5)\n",
    "I = np.vstack(np.meshgrid(x,y)).reshape(2,-1).T\n",
    "I = kpca.fit_transform(I)\n",
    "I = I[:,:2]\n",
    "grid_dim = len(x)\n",
    "I_dim = I[:,0].shape[0]\n",
    "Ix = I[:, 0].reshape(grid_dim,I_dim//grid_dim)\n",
    "Iy = I[:, 1].reshape(grid_dim,I_dim//grid_dim)\n",
    "with plt.xkcd():\n",
    "    for i in range(Ix.shape[0]):\n",
    "        plt.plot(Ix[i],Iy[i],color='b')\n",
    "        plt.plot(Iy[i],Ix[i],color='r')\n",
    "    plt.show()"
   ]
  },
  {
   "cell_type": "code",
   "execution_count": 498,
   "metadata": {
    "collapsed": true
   },
   "outputs": [],
   "source": [
    "### REDUCTION TO ONE DIMENSION\n",
    "from scipy.stats import uniform\n",
    "# Kernel PCA\n",
    "n_components = 1\n",
    "kpca = KernelPCA(n_components=n_components,kernel=\"rbf\",fit_inverse_transform=True)\n",
    "X_reduced = kpca.fit_transform(X_train)\n",
    "z = uniform.rvs(0,0.0005,size=X_reduced.shape[0])\n",
    "### PCA reduction\n",
    "with plt.xkcd():\n",
    "    plt.scatter(X_reduced[:, 0], z, c=y_train)\n",
    "    plt.show()"
   ]
  }
 ],
 "metadata": {
  "anaconda-cloud": {},
  "kernelspec": {
   "display_name": "Python [Root]",
   "language": "python",
   "name": "Python [Root]"
  },
  "language_info": {
   "codemirror_mode": {
    "name": "ipython",
    "version": 3
   },
   "file_extension": ".py",
   "mimetype": "text/x-python",
   "name": "python",
   "nbconvert_exporter": "python",
   "pygments_lexer": "ipython3",
   "version": "3.5.1"
  }
 },
 "nbformat": 4,
 "nbformat_minor": 0
}
