{
 "cells": [
  {
   "cell_type": "code",
   "execution_count": 3,
   "metadata": {
    "collapsed": false
   },
   "outputs": [
    {
     "ename": "ImportError",
     "evalue": "No module named 'rpy2'",
     "output_type": "error",
     "traceback": [
      "\u001b[1;31m---------------------------------------------------------------------------\u001b[0m",
      "\u001b[1;31mImportError\u001b[0m                               Traceback (most recent call last)",
      "\u001b[1;32m<ipython-input-3-82284e388279>\u001b[0m in \u001b[0;36m<module>\u001b[1;34m()\u001b[0m\n\u001b[0;32m      1\u001b[0m \u001b[1;32mimport\u001b[0m \u001b[0mnumpy\u001b[0m \u001b[1;32mas\u001b[0m \u001b[0mnp\u001b[0m\u001b[1;33m\u001b[0m\u001b[0m\n\u001b[0;32m      2\u001b[0m \u001b[1;32mimport\u001b[0m \u001b[0mpandas\u001b[0m \u001b[1;32mas\u001b[0m \u001b[0mpd\u001b[0m\u001b[1;33m\u001b[0m\u001b[0m\n\u001b[1;32m----> 3\u001b[1;33m \u001b[1;32mimport\u001b[0m \u001b[0mrpy2\u001b[0m\u001b[1;33m.\u001b[0m\u001b[0mrobjects\u001b[0m \u001b[1;32mas\u001b[0m \u001b[0mrobj\u001b[0m\u001b[1;33m\u001b[0m\u001b[0m\n\u001b[0m\u001b[0;32m      4\u001b[0m \u001b[1;32mimport\u001b[0m \u001b[0mrpy2\u001b[0m\u001b[1;33m.\u001b[0m\u001b[0mrobjects\u001b[0m\u001b[1;33m.\u001b[0m\u001b[0mpandas2ri\u001b[0m \u001b[1;31m# for dataframe conversion\u001b[0m\u001b[1;33m\u001b[0m\u001b[0m\n\u001b[0;32m      5\u001b[0m \u001b[1;32mfrom\u001b[0m \u001b[0mrpy2\u001b[0m\u001b[1;33m.\u001b[0m\u001b[0mrobjects\u001b[0m\u001b[1;33m.\u001b[0m\u001b[0mpackages\u001b[0m \u001b[1;32mimport\u001b[0m \u001b[0mimportr\u001b[0m\u001b[1;33m\u001b[0m\u001b[0m\n",
      "\u001b[1;31mImportError\u001b[0m: No module named 'rpy2'"
     ]
    }
   ],
   "source": [
    "import numpy as np\n",
    "import pandas as pd\n",
    "import rpy2.robjects as robj\n",
    "import rpy2.robjects.pandas2ri # for dataframe conversion\n",
    "from rpy2.robjects.packages import importr"
   ]
  },
  {
   "cell_type": "code",
   "execution_count": 10,
   "metadata": {
    "collapsed": true
   },
   "outputs": [],
   "source": [
    "import pyper as pr"
   ]
  },
  {
   "cell_type": "code",
   "execution_count": 7,
   "metadata": {
    "collapsed": true
   },
   "outputs": [],
   "source": [
    "# First, make some random data\n",
    "x = np.random.normal(loc = 5, scale = 2, size = 10)\n",
    "y = x + np.random.normal(loc = 0, scale = 2, size = 10)"
   ]
  },
  {
   "cell_type": "code",
   "execution_count": 9,
   "metadata": {
    "collapsed": false
   },
   "outputs": [
    {
     "name": "stdout",
     "output_type": "stream",
     "text": [
      "          x         y\n",
      "0  5.411867  5.999765\n",
      "1  3.823398  6.937237\n",
      "2  2.321784 -0.492945\n",
      "3  5.519597  7.446007\n",
      "4  5.081159  5.273686\n",
      "5  7.568278  8.274695\n",
      "6  4.642370  6.493361\n",
      "7  3.399840  2.626051\n",
      "8  3.335625  1.022925\n",
      "9  4.476831  6.989188\n"
     ]
    }
   ],
   "source": [
    "# Make these into a pandas dataframe. I do this because\n",
    "# more often than not, I read in a pandas dataframe, so this\n",
    "# shows how to use a pandas dataframe to plot in ggplot\n",
    "testData = pd.DataFrame( {'x':x, 'y':y} )\n",
    "# it looks just like a dataframe from R\n",
    "print(testData)"
   ]
  },
  {
   "cell_type": "code",
   "execution_count": null,
   "metadata": {
    "collapsed": true
   },
   "outputs": [],
   "source": [
    "# Next, you make an robject containing function that makes the plot.\n",
    "# the language in the function is pure R, so it can be anything\n",
    "# note that the R environment is blank to start, so ggplot2 has to be\n",
    "# loaded\n",
    "plotFunc = robj.r(\"\"\"\n",
    " library(ggplot2)\n",
    " \n",
    "function(df){\n",
    " p <- ggplot(df, aes(x, y)) +\n",
    " geom_point( )\n",
    " \n",
    "print(p)\n",
    " }\n",
    "\"\"\")"
   ]
  },
  {
   "cell_type": "code",
   "execution_count": null,
   "metadata": {
    "collapsed": true
   },
   "outputs": [],
   "source": [
    "# import graphics devices. This is necessary to shut the graph off\n",
    "# otherwise it just hangs and freezes python\n",
    "gr = importr('grDevices')\n",
    " \n",
    "# convert the testData to an R dataframe\n",
    "robj.pandas2ri.activate()\n",
    "testData_R = robj.conversion.py2ri(testData)\n",
    " \n",
    "# run the plot function on the dataframe\n",
    "plotFunc(testData_R)\n",
    " \n",
    "# ask for input. This requires you to press enter, otherwise the plot\n",
    "# window closes immediately\n",
    "raw_input()\n",
    " \n",
    "# shut down the window using dev_off()\n",
    "gr.dev_off()\n",
    " \n",
    "# you can even save the output once you like it\n",
    "plotFunc_2 = robj.r(\"\"\"\n",
    " library(ggplot2)\n",
    " \n",
    "function(df){\n",
    " p <- ggplot(df, aes(x, y)) +\n",
    " geom_point( ) +\n",
    " theme(\n",
    " panel.background = element_rect(fill = NA, color = 'black')\n",
    " )\n",
    " \n",
    "ggsave('rpy2_magic.pdf', plot = p, width = 6.5, height = 5.5)\n",
    " }\n",
    "\"\"\")\n",
    " \n",
    "plotFunc_2(testData_R)"
   ]
  }
 ],
 "metadata": {
  "kernelspec": {
   "display_name": "Python [Root]",
   "language": "python",
   "name": "Python [Root]"
  },
  "language_info": {
   "codemirror_mode": {
    "name": "ipython",
    "version": 3
   },
   "file_extension": ".py",
   "mimetype": "text/x-python",
   "name": "python",
   "nbconvert_exporter": "python",
   "pygments_lexer": "ipython3",
   "version": "3.5.1"
  }
 },
 "nbformat": 4,
 "nbformat_minor": 0
}
