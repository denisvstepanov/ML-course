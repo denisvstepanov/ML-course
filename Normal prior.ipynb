{
 "cells": [
  {
   "cell_type": "code",
   "execution_count": 1,
   "metadata": {
    "collapsed": true
   },
   "outputs": [],
   "source": [
    "import matplotlib.pyplot as plt\n",
    "import numpy as np\n",
    "import pandas as pd"
   ]
  },
  {
   "cell_type": "code",
   "execution_count": 2,
   "metadata": {
    "collapsed": true
   },
   "outputs": [],
   "source": [
    "from scipy.stats import t\n",
    "from scipy.stats import norm\n",
    "from scipy.stats import gamma"
   ]
  },
  {
   "cell_type": "markdown",
   "metadata": {},
   "source": [
    "$x_i|\\mu\\sim N(\\mu,\\sigma^2)\\\\\n",
    "\\mu\\sim N(\\mu_0,\\sigma_0^2) \\Rightarrow \\mu|x_1,\\ldots,x_n\\sim N\\left(\\frac{\\mu_0\\sigma^2+n\\bar{x}\\sigma_0^2}{\\sigma^2+n\\sigma_0^2},\\left(\\frac{1}{\\sigma_0^2}+\\frac{n}{\\sigma^2}\\right)^{-1} \\right)$"
   ]
  },
  {
   "cell_type": "code",
   "execution_count": 3,
   "metadata": {
    "collapsed": true
   },
   "outputs": [],
   "source": [
    "# posterior\n",
    "def posterior_norm_param(m0, S0, S, X):\n",
    "    n = len(X)\n",
    "    Sp = 1/(1/(S0*S0)+n/(S*S))\n",
    "    a = Sp*(m0/S0/S0+np.sum(X)/S/S)\n",
    "    return np.array((a,np.sqrt(Sp)))"
   ]
  },
  {
   "cell_type": "code",
   "execution_count": 151,
   "metadata": {
    "collapsed": true
   },
   "outputs": [],
   "source": [
    "# posterior for Cauchy case\n",
    "def posterior_norm_param(m0, S0, S, X):\n",
    "    n = len(X)\n",
    "    Sp = 1/(1/(S0*S0)+n/(S*S))\n",
    "    a = Sp*(m0/S0/S0+n*np.median(X)/S/S)\n",
    "    return np.array((a,np.sqrt(Sp)))"
   ]
  },
  {
   "cell_type": "code",
   "execution_count": 4,
   "metadata": {
    "collapsed": true
   },
   "outputs": [],
   "source": [
    "# priors\n",
    "# fact\n",
    "m = 480\n",
    "S = 100\n",
    "# first expert\n",
    "m1 = 500\n",
    "S1 = 20\n",
    "# second expert\n",
    "m2 = 300\n",
    "S2 = 100"
   ]
  },
  {
   "cell_type": "code",
   "execution_count": 59,
   "metadata": {
    "collapsed": false
   },
   "outputs": [
    {
     "data": {
      "text/plain": [
       "{'X': array([ 501.71514121,  496.66564079,  523.66757932,  528.71121898,\n",
       "         485.68387459,  479.56885505,  506.77929712,  517.80098719,\n",
       "         494.20119284,  503.22976228,  327.92470656,  155.55671982,\n",
       "         348.52653458,   88.65803576,  391.06581166,  305.70778063,\n",
       "         230.20701031,  235.7491126 ,  307.42515817,  257.06969468]),\n",
       " 'cat': array([1, 1, 1, 1, 1, 1, 1, 1, 1, 1, 2, 2, 2, 2, 2, 2, 2, 2, 2, 2])}"
      ]
     },
     "execution_count": 59,
     "metadata": {},
     "output_type": "execute_result"
    }
   ],
   "source": [
    "X1 = norm.rvs(m1,S1,10)\n",
    "X2 = norm.rvs(m2,S2,10)\n",
    "X = np.hstack((X1,X2))\n",
    "cat1 = [1 for x in range(10)]\n",
    "cat2 = [2 for x in range(10)]\n",
    "dat = {}\n",
    "dat['X'] = X\n",
    "dat['cat'] = np.concatenate((cat1,cat2))\n",
    "dat"
   ]
  },
  {
   "cell_type": "code",
   "execution_count": 5,
   "metadata": {
    "collapsed": false
   },
   "outputs": [],
   "source": [
    "# simulated prior probabilities for two experts\n",
    "X1 = norm.rvs(m1,S1,10000)\n",
    "X2 = norm.rvs(m2,S2,10000)\n",
    "plt.hist(X1, bins='auto', alpha=0.5, normed = 1)\n",
    "plt.hist(X2, bins='auto', alpha=0.5, normed = 1)\n",
    "lb = min(norm.interval(0.99,m1,S1)[0], norm.interval(0.99,m2,S2)[0])\n",
    "rb = max(norm.interval(0.99,m1,S1)[1], norm.interval(0.99,m2,S2)[1])\n",
    "x = np.linspace(lb,rb, 100)\n",
    "plt.plot(x,norm.pdf(x,m1,S1),linewidth = 4,alpha=0.5)\n",
    "plt.plot(x,norm.pdf(x,m2,S2),linewidth = 4,alpha=0.5)\n",
    "plt.show()"
   ]
  },
  {
   "cell_type": "code",
   "execution_count": 56,
   "metadata": {
    "collapsed": false
   },
   "outputs": [],
   "source": [
    "N = 100\n",
    "rng = np.arange(0,N,1)\n",
    "M1, M2, D1, D2 = np.empty([N]), np.empty([N]), np.empty([N]), np.empty([N]) \n",
    "for n in rng:\n",
    "    X = norm.rvs(m, S, n)\n",
    "    M1[n], D1[n] = posterior_norm_param(m1, S1, S, X)\n",
    "    M2[n], D2[n] = posterior_norm_param(m2, S2, S, X)\n",
    "\n",
    "plt.plot(rng, M1, color='green', alpha = 0.5)\n",
    "plt.fill_between(rng, M1 + D1, M1 - D1, color='green', alpha=0.5)\n",
    "plt.plot(rng, M2, color='red', alpha = 0.5, linestyle='--')\n",
    "plt.fill_between(rng, M2 + D2, M2 - D2, color='red', alpha=0.5)\n",
    "plt.show()"
   ]
  },
  {
   "cell_type": "code",
   "execution_count": 158,
   "metadata": {
    "collapsed": true
   },
   "outputs": [],
   "source": [
    "# posterior\n",
    "def posterior_norm(N, m0, S0, S, X):\n",
    "    n = len(X)\n",
    "    Sp = 1/(1/(S0*S0)+n/(S*S))\n",
    "    a = Sp*(m0/S0/S0+np.sum(X)/S/S)\n",
    "    return norm.rvs(a,np.sqrt(Sp),N)"
   ]
  },
  {
   "cell_type": "code",
   "execution_count": 163,
   "metadata": {
    "collapsed": true
   },
   "outputs": [],
   "source": [
    "# posterior (for Cauchy case)\n",
    "def posterior_norm(N, m0, S0, S, X):\n",
    "    n = len(X)\n",
    "    Sp = 1/(1/(S0*S0)+n/(S*S))\n",
    "    a = Sp*(m0/S0/S0+n*np.median(X)/S/S)\n",
    "    return norm.rvs(a,np.sqrt(Sp),N)"
   ]
  },
  {
   "cell_type": "code",
   "execution_count": 164,
   "metadata": {
    "collapsed": true
   },
   "outputs": [],
   "source": [
    "# evidence\n",
    "#X = norm.rvs(m,S,10000)\n",
    "X = t.rvs(1,m,S,10000)"
   ]
  },
  {
   "cell_type": "code",
   "execution_count": 165,
   "metadata": {
    "collapsed": false
   },
   "outputs": [],
   "source": [
    "# posteriors\n",
    "lb = min(norm.interval(0.99,m1,S1)[0], norm.interval(0.99,m2,S2)[0])\n",
    "rb = max(norm.interval(0.99,m1,S1)[1], norm.interval(0.99,m2,S2)[1])\n",
    "x = np.linspace(lb,rb, 100)\n",
    "Xp1 = posterior_norm(10000,m1,S1,S,X)\n",
    "Xp2 = posterior_norm(10000,m2,S2,S,X)\n",
    "plt.plot(x,norm.pdf(x,m1,S1),alpha=0.5,linewidth = 4)\n",
    "plt.plot(x,norm.pdf(x,m2,S2),alpha=0.5,linewidth = 4)\n",
    "plt.hist(Xp1, bins='auto', alpha=0.5, normed = 1,color='blue')\n",
    "plt.hist(Xp2, bins='auto', alpha=0.5, normed = 1,color='green')\n",
    "plt.show()"
   ]
  },
  {
   "cell_type": "code",
   "execution_count": null,
   "metadata": {
    "collapsed": true
   },
   "outputs": [],
   "source": []
  }
 ],
 "metadata": {
  "kernelspec": {
   "display_name": "Python [Root]",
   "language": "python",
   "name": "Python [Root]"
  },
  "language_info": {
   "codemirror_mode": {
    "name": "ipython",
    "version": 3
   },
   "file_extension": ".py",
   "mimetype": "text/x-python",
   "name": "python",
   "nbconvert_exporter": "python",
   "pygments_lexer": "ipython3",
   "version": "3.5.1"
  }
 },
 "nbformat": 4,
 "nbformat_minor": 0
}
